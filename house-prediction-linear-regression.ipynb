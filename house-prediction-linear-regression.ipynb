{
 "cells": [
  {
   "cell_type": "code",
   "execution_count": 1,
   "id": "2964ba3c",
   "metadata": {
    "_cell_guid": "b1076dfc-b9ad-4769-8c92-a6c4dae69d19",
    "_uuid": "8f2839f25d086af736a60e9eeb907d3b93b6e0e5",
    "execution": {
     "iopub.execute_input": "2022-06-15T10:45:32.288195Z",
     "iopub.status.busy": "2022-06-15T10:45:32.287547Z",
     "iopub.status.idle": "2022-06-15T10:45:32.298950Z",
     "shell.execute_reply": "2022-06-15T10:45:32.297773Z"
    },
    "papermill": {
     "duration": 0.028121,
     "end_time": "2022-06-15T10:45:32.301778",
     "exception": false,
     "start_time": "2022-06-15T10:45:32.273657",
     "status": "completed"
    },
    "tags": []
   },
   "outputs": [
    {
     "name": "stdout",
     "output_type": "stream",
     "text": [
      "/kaggle/input/house-prices-advanced-regression-techniques/sample_submission.csv\n",
      "/kaggle/input/house-prices-advanced-regression-techniques/data_description.txt\n",
      "/kaggle/input/house-prices-advanced-regression-techniques/train.csv\n",
      "/kaggle/input/house-prices-advanced-regression-techniques/test.csv\n"
     ]
    }
   ],
   "source": [
    "# This Python 3 environment comes with many helpful analytics libraries installed\n",
    "# It is defined by the kaggle/python Docker image: https://github.com/kaggle/docker-python\n",
    "# For example, here's several helpful packages to load\n",
    "\n",
    "import numpy as np # linear algebra\n",
    "import pandas as pd # data processing, CSV file I/O (e.g. pd.read_csv)\n",
    "\n",
    "# Input data files are available in the read-only \"../input/\" directory\n",
    "# For example, running this (by clicking run or pressing Shift+Enter) will list all files under the input directory\n",
    "\n",
    "import os\n",
    "for dirname, _, filenames in os.walk('/kaggle/input'):\n",
    "    for filename in filenames:\n",
    "        print(os.path.join(dirname, filename))\n",
    "\n",
    "# You can write up to 20GB to the current directory (/kaggle/working/) that gets preserved as output when you create a version using \"Save & Run All\" \n",
    "# You can also write temporary files to /kaggle/temp/, but they won't be saved outside of the current session"
   ]
  },
  {
   "cell_type": "code",
   "execution_count": 2,
   "id": "14712f44",
   "metadata": {
    "execution": {
     "iopub.execute_input": "2022-06-15T10:45:32.328315Z",
     "iopub.status.busy": "2022-06-15T10:45:32.327511Z",
     "iopub.status.idle": "2022-06-15T10:45:33.353332Z",
     "shell.execute_reply": "2022-06-15T10:45:33.352472Z"
    },
    "papermill": {
     "duration": 1.041592,
     "end_time": "2022-06-15T10:45:33.355832",
     "exception": false,
     "start_time": "2022-06-15T10:45:32.314240",
     "status": "completed"
    },
    "tags": []
   },
   "outputs": [],
   "source": [
    "import numpy as np\n",
    "import pandas as pd\n",
    "import warnings \n",
    "warnings.filterwarnings('ignore')\n",
    "import seaborn as sns\n"
   ]
  },
  {
   "cell_type": "code",
   "execution_count": 3,
   "id": "4db69f42",
   "metadata": {
    "execution": {
     "iopub.execute_input": "2022-06-15T10:45:33.379712Z",
     "iopub.status.busy": "2022-06-15T10:45:33.378755Z",
     "iopub.status.idle": "2022-06-15T10:45:33.415074Z",
     "shell.execute_reply": "2022-06-15T10:45:33.414302Z"
    },
    "papermill": {
     "duration": 0.050022,
     "end_time": "2022-06-15T10:45:33.416921",
     "exception": false,
     "start_time": "2022-06-15T10:45:33.366899",
     "status": "completed"
    },
    "tags": []
   },
   "outputs": [],
   "source": [
    "train = pd.read_csv(r'/kaggle/input/house-prices-advanced-regression-techniques/train.csv')"
   ]
  },
  {
   "cell_type": "code",
   "execution_count": 4,
   "id": "ff7df989",
   "metadata": {
    "execution": {
     "iopub.execute_input": "2022-06-15T10:45:33.440484Z",
     "iopub.status.busy": "2022-06-15T10:45:33.439628Z",
     "iopub.status.idle": "2022-06-15T10:45:33.470289Z",
     "shell.execute_reply": "2022-06-15T10:45:33.469344Z"
    },
    "jupyter": {
     "source_hidden": true
    },
    "papermill": {
     "duration": 0.044346,
     "end_time": "2022-06-15T10:45:33.472117",
     "exception": false,
     "start_time": "2022-06-15T10:45:33.427771",
     "status": "completed"
    },
    "tags": []
   },
   "outputs": [
    {
     "data": {
      "text/html": [
       "<div>\n",
       "<style scoped>\n",
       "    .dataframe tbody tr th:only-of-type {\n",
       "        vertical-align: middle;\n",
       "    }\n",
       "\n",
       "    .dataframe tbody tr th {\n",
       "        vertical-align: top;\n",
       "    }\n",
       "\n",
       "    .dataframe thead th {\n",
       "        text-align: right;\n",
       "    }\n",
       "</style>\n",
       "<table border=\"1\" class=\"dataframe\">\n",
       "  <thead>\n",
       "    <tr style=\"text-align: right;\">\n",
       "      <th></th>\n",
       "      <th>Id</th>\n",
       "      <th>MSSubClass</th>\n",
       "      <th>MSZoning</th>\n",
       "      <th>LotFrontage</th>\n",
       "      <th>LotArea</th>\n",
       "      <th>Street</th>\n",
       "      <th>Alley</th>\n",
       "      <th>LotShape</th>\n",
       "      <th>LandContour</th>\n",
       "      <th>Utilities</th>\n",
       "      <th>...</th>\n",
       "      <th>PoolArea</th>\n",
       "      <th>PoolQC</th>\n",
       "      <th>Fence</th>\n",
       "      <th>MiscFeature</th>\n",
       "      <th>MiscVal</th>\n",
       "      <th>MoSold</th>\n",
       "      <th>YrSold</th>\n",
       "      <th>SaleType</th>\n",
       "      <th>SaleCondition</th>\n",
       "      <th>SalePrice</th>\n",
       "    </tr>\n",
       "  </thead>\n",
       "  <tbody>\n",
       "    <tr>\n",
       "      <th>0</th>\n",
       "      <td>1</td>\n",
       "      <td>60</td>\n",
       "      <td>RL</td>\n",
       "      <td>65.0</td>\n",
       "      <td>8450</td>\n",
       "      <td>Pave</td>\n",
       "      <td>NaN</td>\n",
       "      <td>Reg</td>\n",
       "      <td>Lvl</td>\n",
       "      <td>AllPub</td>\n",
       "      <td>...</td>\n",
       "      <td>0</td>\n",
       "      <td>NaN</td>\n",
       "      <td>NaN</td>\n",
       "      <td>NaN</td>\n",
       "      <td>0</td>\n",
       "      <td>2</td>\n",
       "      <td>2008</td>\n",
       "      <td>WD</td>\n",
       "      <td>Normal</td>\n",
       "      <td>208500</td>\n",
       "    </tr>\n",
       "    <tr>\n",
       "      <th>1</th>\n",
       "      <td>2</td>\n",
       "      <td>20</td>\n",
       "      <td>RL</td>\n",
       "      <td>80.0</td>\n",
       "      <td>9600</td>\n",
       "      <td>Pave</td>\n",
       "      <td>NaN</td>\n",
       "      <td>Reg</td>\n",
       "      <td>Lvl</td>\n",
       "      <td>AllPub</td>\n",
       "      <td>...</td>\n",
       "      <td>0</td>\n",
       "      <td>NaN</td>\n",
       "      <td>NaN</td>\n",
       "      <td>NaN</td>\n",
       "      <td>0</td>\n",
       "      <td>5</td>\n",
       "      <td>2007</td>\n",
       "      <td>WD</td>\n",
       "      <td>Normal</td>\n",
       "      <td>181500</td>\n",
       "    </tr>\n",
       "    <tr>\n",
       "      <th>2</th>\n",
       "      <td>3</td>\n",
       "      <td>60</td>\n",
       "      <td>RL</td>\n",
       "      <td>68.0</td>\n",
       "      <td>11250</td>\n",
       "      <td>Pave</td>\n",
       "      <td>NaN</td>\n",
       "      <td>IR1</td>\n",
       "      <td>Lvl</td>\n",
       "      <td>AllPub</td>\n",
       "      <td>...</td>\n",
       "      <td>0</td>\n",
       "      <td>NaN</td>\n",
       "      <td>NaN</td>\n",
       "      <td>NaN</td>\n",
       "      <td>0</td>\n",
       "      <td>9</td>\n",
       "      <td>2008</td>\n",
       "      <td>WD</td>\n",
       "      <td>Normal</td>\n",
       "      <td>223500</td>\n",
       "    </tr>\n",
       "    <tr>\n",
       "      <th>3</th>\n",
       "      <td>4</td>\n",
       "      <td>70</td>\n",
       "      <td>RL</td>\n",
       "      <td>60.0</td>\n",
       "      <td>9550</td>\n",
       "      <td>Pave</td>\n",
       "      <td>NaN</td>\n",
       "      <td>IR1</td>\n",
       "      <td>Lvl</td>\n",
       "      <td>AllPub</td>\n",
       "      <td>...</td>\n",
       "      <td>0</td>\n",
       "      <td>NaN</td>\n",
       "      <td>NaN</td>\n",
       "      <td>NaN</td>\n",
       "      <td>0</td>\n",
       "      <td>2</td>\n",
       "      <td>2006</td>\n",
       "      <td>WD</td>\n",
       "      <td>Abnorml</td>\n",
       "      <td>140000</td>\n",
       "    </tr>\n",
       "    <tr>\n",
       "      <th>4</th>\n",
       "      <td>5</td>\n",
       "      <td>60</td>\n",
       "      <td>RL</td>\n",
       "      <td>84.0</td>\n",
       "      <td>14260</td>\n",
       "      <td>Pave</td>\n",
       "      <td>NaN</td>\n",
       "      <td>IR1</td>\n",
       "      <td>Lvl</td>\n",
       "      <td>AllPub</td>\n",
       "      <td>...</td>\n",
       "      <td>0</td>\n",
       "      <td>NaN</td>\n",
       "      <td>NaN</td>\n",
       "      <td>NaN</td>\n",
       "      <td>0</td>\n",
       "      <td>12</td>\n",
       "      <td>2008</td>\n",
       "      <td>WD</td>\n",
       "      <td>Normal</td>\n",
       "      <td>250000</td>\n",
       "    </tr>\n",
       "  </tbody>\n",
       "</table>\n",
       "<p>5 rows × 81 columns</p>\n",
       "</div>"
      ],
      "text/plain": [
       "   Id  MSSubClass MSZoning  LotFrontage  LotArea Street Alley LotShape  \\\n",
       "0   1          60       RL         65.0     8450   Pave   NaN      Reg   \n",
       "1   2          20       RL         80.0     9600   Pave   NaN      Reg   \n",
       "2   3          60       RL         68.0    11250   Pave   NaN      IR1   \n",
       "3   4          70       RL         60.0     9550   Pave   NaN      IR1   \n",
       "4   5          60       RL         84.0    14260   Pave   NaN      IR1   \n",
       "\n",
       "  LandContour Utilities  ... PoolArea PoolQC Fence MiscFeature MiscVal MoSold  \\\n",
       "0         Lvl    AllPub  ...        0    NaN   NaN         NaN       0      2   \n",
       "1         Lvl    AllPub  ...        0    NaN   NaN         NaN       0      5   \n",
       "2         Lvl    AllPub  ...        0    NaN   NaN         NaN       0      9   \n",
       "3         Lvl    AllPub  ...        0    NaN   NaN         NaN       0      2   \n",
       "4         Lvl    AllPub  ...        0    NaN   NaN         NaN       0     12   \n",
       "\n",
       "  YrSold  SaleType  SaleCondition  SalePrice  \n",
       "0   2008        WD         Normal     208500  \n",
       "1   2007        WD         Normal     181500  \n",
       "2   2008        WD         Normal     223500  \n",
       "3   2006        WD        Abnorml     140000  \n",
       "4   2008        WD         Normal     250000  \n",
       "\n",
       "[5 rows x 81 columns]"
      ]
     },
     "execution_count": 4,
     "metadata": {},
     "output_type": "execute_result"
    }
   ],
   "source": [
    "train.head()"
   ]
  },
  {
   "cell_type": "code",
   "execution_count": 5,
   "id": "7cc88a71",
   "metadata": {
    "execution": {
     "iopub.execute_input": "2022-06-15T10:45:33.496612Z",
     "iopub.status.busy": "2022-06-15T10:45:33.496226Z",
     "iopub.status.idle": "2022-06-15T10:45:33.501226Z",
     "shell.execute_reply": "2022-06-15T10:45:33.500562Z"
    },
    "papermill": {
     "duration": 0.018974,
     "end_time": "2022-06-15T10:45:33.502771",
     "exception": false,
     "start_time": "2022-06-15T10:45:33.483797",
     "status": "completed"
    },
    "tags": []
   },
   "outputs": [
    {
     "data": {
      "text/plain": [
       "(1460, 81)"
      ]
     },
     "execution_count": 5,
     "metadata": {},
     "output_type": "execute_result"
    }
   ],
   "source": [
    "train.shape"
   ]
  },
  {
   "cell_type": "code",
   "execution_count": 6,
   "id": "2faeeff3",
   "metadata": {
    "execution": {
     "iopub.execute_input": "2022-06-15T10:45:33.526615Z",
     "iopub.status.busy": "2022-06-15T10:45:33.526014Z",
     "iopub.status.idle": "2022-06-15T10:45:33.555890Z",
     "shell.execute_reply": "2022-06-15T10:45:33.555100Z"
    },
    "papermill": {
     "duration": 0.044105,
     "end_time": "2022-06-15T10:45:33.557969",
     "exception": false,
     "start_time": "2022-06-15T10:45:33.513864",
     "status": "completed"
    },
    "tags": []
   },
   "outputs": [],
   "source": [
    "test = pd.read_csv(r'/kaggle/input/house-prices-advanced-regression-techniques/test.csv')"
   ]
  },
  {
   "cell_type": "code",
   "execution_count": 7,
   "id": "beeaa5c2",
   "metadata": {
    "execution": {
     "iopub.execute_input": "2022-06-15T10:45:33.582176Z",
     "iopub.status.busy": "2022-06-15T10:45:33.581519Z",
     "iopub.status.idle": "2022-06-15T10:45:33.601882Z",
     "shell.execute_reply": "2022-06-15T10:45:33.601097Z"
    },
    "papermill": {
     "duration": 0.034738,
     "end_time": "2022-06-15T10:45:33.604159",
     "exception": false,
     "start_time": "2022-06-15T10:45:33.569421",
     "status": "completed"
    },
    "tags": []
   },
   "outputs": [
    {
     "data": {
      "text/html": [
       "<div>\n",
       "<style scoped>\n",
       "    .dataframe tbody tr th:only-of-type {\n",
       "        vertical-align: middle;\n",
       "    }\n",
       "\n",
       "    .dataframe tbody tr th {\n",
       "        vertical-align: top;\n",
       "    }\n",
       "\n",
       "    .dataframe thead th {\n",
       "        text-align: right;\n",
       "    }\n",
       "</style>\n",
       "<table border=\"1\" class=\"dataframe\">\n",
       "  <thead>\n",
       "    <tr style=\"text-align: right;\">\n",
       "      <th></th>\n",
       "      <th>Id</th>\n",
       "      <th>MSSubClass</th>\n",
       "      <th>MSZoning</th>\n",
       "      <th>LotFrontage</th>\n",
       "      <th>LotArea</th>\n",
       "      <th>Street</th>\n",
       "      <th>Alley</th>\n",
       "      <th>LotShape</th>\n",
       "      <th>LandContour</th>\n",
       "      <th>Utilities</th>\n",
       "      <th>...</th>\n",
       "      <th>ScreenPorch</th>\n",
       "      <th>PoolArea</th>\n",
       "      <th>PoolQC</th>\n",
       "      <th>Fence</th>\n",
       "      <th>MiscFeature</th>\n",
       "      <th>MiscVal</th>\n",
       "      <th>MoSold</th>\n",
       "      <th>YrSold</th>\n",
       "      <th>SaleType</th>\n",
       "      <th>SaleCondition</th>\n",
       "    </tr>\n",
       "  </thead>\n",
       "  <tbody>\n",
       "    <tr>\n",
       "      <th>0</th>\n",
       "      <td>1461</td>\n",
       "      <td>20</td>\n",
       "      <td>RH</td>\n",
       "      <td>80.0</td>\n",
       "      <td>11622</td>\n",
       "      <td>Pave</td>\n",
       "      <td>NaN</td>\n",
       "      <td>Reg</td>\n",
       "      <td>Lvl</td>\n",
       "      <td>AllPub</td>\n",
       "      <td>...</td>\n",
       "      <td>120</td>\n",
       "      <td>0</td>\n",
       "      <td>NaN</td>\n",
       "      <td>MnPrv</td>\n",
       "      <td>NaN</td>\n",
       "      <td>0</td>\n",
       "      <td>6</td>\n",
       "      <td>2010</td>\n",
       "      <td>WD</td>\n",
       "      <td>Normal</td>\n",
       "    </tr>\n",
       "    <tr>\n",
       "      <th>1</th>\n",
       "      <td>1462</td>\n",
       "      <td>20</td>\n",
       "      <td>RL</td>\n",
       "      <td>81.0</td>\n",
       "      <td>14267</td>\n",
       "      <td>Pave</td>\n",
       "      <td>NaN</td>\n",
       "      <td>IR1</td>\n",
       "      <td>Lvl</td>\n",
       "      <td>AllPub</td>\n",
       "      <td>...</td>\n",
       "      <td>0</td>\n",
       "      <td>0</td>\n",
       "      <td>NaN</td>\n",
       "      <td>NaN</td>\n",
       "      <td>Gar2</td>\n",
       "      <td>12500</td>\n",
       "      <td>6</td>\n",
       "      <td>2010</td>\n",
       "      <td>WD</td>\n",
       "      <td>Normal</td>\n",
       "    </tr>\n",
       "    <tr>\n",
       "      <th>2</th>\n",
       "      <td>1463</td>\n",
       "      <td>60</td>\n",
       "      <td>RL</td>\n",
       "      <td>74.0</td>\n",
       "      <td>13830</td>\n",
       "      <td>Pave</td>\n",
       "      <td>NaN</td>\n",
       "      <td>IR1</td>\n",
       "      <td>Lvl</td>\n",
       "      <td>AllPub</td>\n",
       "      <td>...</td>\n",
       "      <td>0</td>\n",
       "      <td>0</td>\n",
       "      <td>NaN</td>\n",
       "      <td>MnPrv</td>\n",
       "      <td>NaN</td>\n",
       "      <td>0</td>\n",
       "      <td>3</td>\n",
       "      <td>2010</td>\n",
       "      <td>WD</td>\n",
       "      <td>Normal</td>\n",
       "    </tr>\n",
       "    <tr>\n",
       "      <th>3</th>\n",
       "      <td>1464</td>\n",
       "      <td>60</td>\n",
       "      <td>RL</td>\n",
       "      <td>78.0</td>\n",
       "      <td>9978</td>\n",
       "      <td>Pave</td>\n",
       "      <td>NaN</td>\n",
       "      <td>IR1</td>\n",
       "      <td>Lvl</td>\n",
       "      <td>AllPub</td>\n",
       "      <td>...</td>\n",
       "      <td>0</td>\n",
       "      <td>0</td>\n",
       "      <td>NaN</td>\n",
       "      <td>NaN</td>\n",
       "      <td>NaN</td>\n",
       "      <td>0</td>\n",
       "      <td>6</td>\n",
       "      <td>2010</td>\n",
       "      <td>WD</td>\n",
       "      <td>Normal</td>\n",
       "    </tr>\n",
       "    <tr>\n",
       "      <th>4</th>\n",
       "      <td>1465</td>\n",
       "      <td>120</td>\n",
       "      <td>RL</td>\n",
       "      <td>43.0</td>\n",
       "      <td>5005</td>\n",
       "      <td>Pave</td>\n",
       "      <td>NaN</td>\n",
       "      <td>IR1</td>\n",
       "      <td>HLS</td>\n",
       "      <td>AllPub</td>\n",
       "      <td>...</td>\n",
       "      <td>144</td>\n",
       "      <td>0</td>\n",
       "      <td>NaN</td>\n",
       "      <td>NaN</td>\n",
       "      <td>NaN</td>\n",
       "      <td>0</td>\n",
       "      <td>1</td>\n",
       "      <td>2010</td>\n",
       "      <td>WD</td>\n",
       "      <td>Normal</td>\n",
       "    </tr>\n",
       "  </tbody>\n",
       "</table>\n",
       "<p>5 rows × 80 columns</p>\n",
       "</div>"
      ],
      "text/plain": [
       "     Id  MSSubClass MSZoning  LotFrontage  LotArea Street Alley LotShape  \\\n",
       "0  1461          20       RH         80.0    11622   Pave   NaN      Reg   \n",
       "1  1462          20       RL         81.0    14267   Pave   NaN      IR1   \n",
       "2  1463          60       RL         74.0    13830   Pave   NaN      IR1   \n",
       "3  1464          60       RL         78.0     9978   Pave   NaN      IR1   \n",
       "4  1465         120       RL         43.0     5005   Pave   NaN      IR1   \n",
       "\n",
       "  LandContour Utilities  ... ScreenPorch PoolArea PoolQC  Fence MiscFeature  \\\n",
       "0         Lvl    AllPub  ...         120        0    NaN  MnPrv         NaN   \n",
       "1         Lvl    AllPub  ...           0        0    NaN    NaN        Gar2   \n",
       "2         Lvl    AllPub  ...           0        0    NaN  MnPrv         NaN   \n",
       "3         Lvl    AllPub  ...           0        0    NaN    NaN         NaN   \n",
       "4         HLS    AllPub  ...         144        0    NaN    NaN         NaN   \n",
       "\n",
       "  MiscVal MoSold  YrSold  SaleType  SaleCondition  \n",
       "0       0      6    2010        WD         Normal  \n",
       "1   12500      6    2010        WD         Normal  \n",
       "2       0      3    2010        WD         Normal  \n",
       "3       0      6    2010        WD         Normal  \n",
       "4       0      1    2010        WD         Normal  \n",
       "\n",
       "[5 rows x 80 columns]"
      ]
     },
     "execution_count": 7,
     "metadata": {},
     "output_type": "execute_result"
    }
   ],
   "source": [
    "test.head()"
   ]
  },
  {
   "cell_type": "markdown",
   "id": "656e2ff0",
   "metadata": {
    "papermill": {
     "duration": 0.012827,
     "end_time": "2022-06-15T10:45:33.628626",
     "exception": false,
     "start_time": "2022-06-15T10:45:33.615799",
     "status": "completed"
    },
    "tags": []
   },
   "source": [
    "### Merging the data both train and test to maintain consistency."
   ]
  },
  {
   "cell_type": "code",
   "execution_count": 8,
   "id": "975e9092",
   "metadata": {
    "execution": {
     "iopub.execute_input": "2022-06-15T10:45:33.657195Z",
     "iopub.status.busy": "2022-06-15T10:45:33.656577Z",
     "iopub.status.idle": "2022-06-15T10:45:33.673842Z",
     "shell.execute_reply": "2022-06-15T10:45:33.673021Z"
    },
    "papermill": {
     "duration": 0.034603,
     "end_time": "2022-06-15T10:45:33.677589",
     "exception": false,
     "start_time": "2022-06-15T10:45:33.642986",
     "status": "completed"
    },
    "tags": []
   },
   "outputs": [],
   "source": [
    "data = pd.concat([train,test])"
   ]
  },
  {
   "cell_type": "markdown",
   "id": "5b1ef702",
   "metadata": {
    "papermill": {
     "duration": 0.012,
     "end_time": "2022-06-15T10:45:33.706253",
     "exception": false,
     "start_time": "2022-06-15T10:45:33.694253",
     "status": "completed"
    },
    "tags": []
   },
   "source": [
    "### Let us get some info"
   ]
  },
  {
   "cell_type": "code",
   "execution_count": 9,
   "id": "3c156004",
   "metadata": {
    "execution": {
     "iopub.execute_input": "2022-06-15T10:45:33.737683Z",
     "iopub.status.busy": "2022-06-15T10:45:33.737165Z",
     "iopub.status.idle": "2022-06-15T10:45:33.741533Z",
     "shell.execute_reply": "2022-06-15T10:45:33.740996Z"
    },
    "papermill": {
     "duration": 0.022886,
     "end_time": "2022-06-15T10:45:33.743135",
     "exception": false,
     "start_time": "2022-06-15T10:45:33.720249",
     "status": "completed"
    },
    "tags": []
   },
   "outputs": [
    {
     "data": {
      "text/plain": [
       "(2919, 81)"
      ]
     },
     "execution_count": 9,
     "metadata": {},
     "output_type": "execute_result"
    }
   ],
   "source": [
    "data.shape"
   ]
  },
  {
   "cell_type": "code",
   "execution_count": 10,
   "id": "0f47410f",
   "metadata": {
    "execution": {
     "iopub.execute_input": "2022-06-15T10:45:33.767689Z",
     "iopub.status.busy": "2022-06-15T10:45:33.767338Z",
     "iopub.status.idle": "2022-06-15T10:45:33.798246Z",
     "shell.execute_reply": "2022-06-15T10:45:33.797602Z"
    },
    "papermill": {
     "duration": 0.046264,
     "end_time": "2022-06-15T10:45:33.800961",
     "exception": false,
     "start_time": "2022-06-15T10:45:33.754697",
     "status": "completed"
    },
    "tags": []
   },
   "outputs": [
    {
     "name": "stdout",
     "output_type": "stream",
     "text": [
      "<class 'pandas.core.frame.DataFrame'>\n",
      "Int64Index: 2919 entries, 0 to 1458\n",
      "Data columns (total 81 columns):\n",
      " #   Column         Non-Null Count  Dtype  \n",
      "---  ------         --------------  -----  \n",
      " 0   Id             2919 non-null   int64  \n",
      " 1   MSSubClass     2919 non-null   int64  \n",
      " 2   MSZoning       2915 non-null   object \n",
      " 3   LotFrontage    2433 non-null   float64\n",
      " 4   LotArea        2919 non-null   int64  \n",
      " 5   Street         2919 non-null   object \n",
      " 6   Alley          198 non-null    object \n",
      " 7   LotShape       2919 non-null   object \n",
      " 8   LandContour    2919 non-null   object \n",
      " 9   Utilities      2917 non-null   object \n",
      " 10  LotConfig      2919 non-null   object \n",
      " 11  LandSlope      2919 non-null   object \n",
      " 12  Neighborhood   2919 non-null   object \n",
      " 13  Condition1     2919 non-null   object \n",
      " 14  Condition2     2919 non-null   object \n",
      " 15  BldgType       2919 non-null   object \n",
      " 16  HouseStyle     2919 non-null   object \n",
      " 17  OverallQual    2919 non-null   int64  \n",
      " 18  OverallCond    2919 non-null   int64  \n",
      " 19  YearBuilt      2919 non-null   int64  \n",
      " 20  YearRemodAdd   2919 non-null   int64  \n",
      " 21  RoofStyle      2919 non-null   object \n",
      " 22  RoofMatl       2919 non-null   object \n",
      " 23  Exterior1st    2918 non-null   object \n",
      " 24  Exterior2nd    2918 non-null   object \n",
      " 25  MasVnrType     2895 non-null   object \n",
      " 26  MasVnrArea     2896 non-null   float64\n",
      " 27  ExterQual      2919 non-null   object \n",
      " 28  ExterCond      2919 non-null   object \n",
      " 29  Foundation     2919 non-null   object \n",
      " 30  BsmtQual       2838 non-null   object \n",
      " 31  BsmtCond       2837 non-null   object \n",
      " 32  BsmtExposure   2837 non-null   object \n",
      " 33  BsmtFinType1   2840 non-null   object \n",
      " 34  BsmtFinSF1     2918 non-null   float64\n",
      " 35  BsmtFinType2   2839 non-null   object \n",
      " 36  BsmtFinSF2     2918 non-null   float64\n",
      " 37  BsmtUnfSF      2918 non-null   float64\n",
      " 38  TotalBsmtSF    2918 non-null   float64\n",
      " 39  Heating        2919 non-null   object \n",
      " 40  HeatingQC      2919 non-null   object \n",
      " 41  CentralAir     2919 non-null   object \n",
      " 42  Electrical     2918 non-null   object \n",
      " 43  1stFlrSF       2919 non-null   int64  \n",
      " 44  2ndFlrSF       2919 non-null   int64  \n",
      " 45  LowQualFinSF   2919 non-null   int64  \n",
      " 46  GrLivArea      2919 non-null   int64  \n",
      " 47  BsmtFullBath   2917 non-null   float64\n",
      " 48  BsmtHalfBath   2917 non-null   float64\n",
      " 49  FullBath       2919 non-null   int64  \n",
      " 50  HalfBath       2919 non-null   int64  \n",
      " 51  BedroomAbvGr   2919 non-null   int64  \n",
      " 52  KitchenAbvGr   2919 non-null   int64  \n",
      " 53  KitchenQual    2918 non-null   object \n",
      " 54  TotRmsAbvGrd   2919 non-null   int64  \n",
      " 55  Functional     2917 non-null   object \n",
      " 56  Fireplaces     2919 non-null   int64  \n",
      " 57  FireplaceQu    1499 non-null   object \n",
      " 58  GarageType     2762 non-null   object \n",
      " 59  GarageYrBlt    2760 non-null   float64\n",
      " 60  GarageFinish   2760 non-null   object \n",
      " 61  GarageCars     2918 non-null   float64\n",
      " 62  GarageArea     2918 non-null   float64\n",
      " 63  GarageQual     2760 non-null   object \n",
      " 64  GarageCond     2760 non-null   object \n",
      " 65  PavedDrive     2919 non-null   object \n",
      " 66  WoodDeckSF     2919 non-null   int64  \n",
      " 67  OpenPorchSF    2919 non-null   int64  \n",
      " 68  EnclosedPorch  2919 non-null   int64  \n",
      " 69  3SsnPorch      2919 non-null   int64  \n",
      " 70  ScreenPorch    2919 non-null   int64  \n",
      " 71  PoolArea       2919 non-null   int64  \n",
      " 72  PoolQC         10 non-null     object \n",
      " 73  Fence          571 non-null    object \n",
      " 74  MiscFeature    105 non-null    object \n",
      " 75  MiscVal        2919 non-null   int64  \n",
      " 76  MoSold         2919 non-null   int64  \n",
      " 77  YrSold         2919 non-null   int64  \n",
      " 78  SaleType       2918 non-null   object \n",
      " 79  SaleCondition  2919 non-null   object \n",
      " 80  SalePrice      1460 non-null   float64\n",
      "dtypes: float64(12), int64(26), object(43)\n",
      "memory usage: 1.8+ MB\n"
     ]
    }
   ],
   "source": [
    "data.info()"
   ]
  },
  {
   "cell_type": "code",
   "execution_count": 11,
   "id": "9e71dc5c",
   "metadata": {
    "execution": {
     "iopub.execute_input": "2022-06-15T10:45:33.826562Z",
     "iopub.status.busy": "2022-06-15T10:45:33.825488Z",
     "iopub.status.idle": "2022-06-15T10:45:33.974322Z",
     "shell.execute_reply": "2022-06-15T10:45:33.973321Z"
    },
    "papermill": {
     "duration": 0.163692,
     "end_time": "2022-06-15T10:45:33.976346",
     "exception": false,
     "start_time": "2022-06-15T10:45:33.812654",
     "status": "completed"
    },
    "tags": []
   },
   "outputs": [
    {
     "data": {
      "text/html": [
       "<div>\n",
       "<style scoped>\n",
       "    .dataframe tbody tr th:only-of-type {\n",
       "        vertical-align: middle;\n",
       "    }\n",
       "\n",
       "    .dataframe tbody tr th {\n",
       "        vertical-align: top;\n",
       "    }\n",
       "\n",
       "    .dataframe thead th {\n",
       "        text-align: right;\n",
       "    }\n",
       "</style>\n",
       "<table border=\"1\" class=\"dataframe\">\n",
       "  <thead>\n",
       "    <tr style=\"text-align: right;\">\n",
       "      <th></th>\n",
       "      <th>count</th>\n",
       "      <th>unique</th>\n",
       "      <th>top</th>\n",
       "      <th>freq</th>\n",
       "      <th>mean</th>\n",
       "      <th>std</th>\n",
       "      <th>min</th>\n",
       "      <th>25%</th>\n",
       "      <th>50%</th>\n",
       "      <th>75%</th>\n",
       "      <th>max</th>\n",
       "    </tr>\n",
       "  </thead>\n",
       "  <tbody>\n",
       "    <tr>\n",
       "      <th>Id</th>\n",
       "      <td>2919.0</td>\n",
       "      <td>NaN</td>\n",
       "      <td>NaN</td>\n",
       "      <td>NaN</td>\n",
       "      <td>1460.0</td>\n",
       "      <td>842.787043</td>\n",
       "      <td>1.0</td>\n",
       "      <td>730.5</td>\n",
       "      <td>1460.0</td>\n",
       "      <td>2189.5</td>\n",
       "      <td>2919.0</td>\n",
       "    </tr>\n",
       "    <tr>\n",
       "      <th>MSSubClass</th>\n",
       "      <td>2919.0</td>\n",
       "      <td>NaN</td>\n",
       "      <td>NaN</td>\n",
       "      <td>NaN</td>\n",
       "      <td>57.137718</td>\n",
       "      <td>42.517628</td>\n",
       "      <td>20.0</td>\n",
       "      <td>20.0</td>\n",
       "      <td>50.0</td>\n",
       "      <td>70.0</td>\n",
       "      <td>190.0</td>\n",
       "    </tr>\n",
       "    <tr>\n",
       "      <th>MSZoning</th>\n",
       "      <td>2915</td>\n",
       "      <td>5</td>\n",
       "      <td>RL</td>\n",
       "      <td>2265</td>\n",
       "      <td>NaN</td>\n",
       "      <td>NaN</td>\n",
       "      <td>NaN</td>\n",
       "      <td>NaN</td>\n",
       "      <td>NaN</td>\n",
       "      <td>NaN</td>\n",
       "      <td>NaN</td>\n",
       "    </tr>\n",
       "    <tr>\n",
       "      <th>LotFrontage</th>\n",
       "      <td>2433.0</td>\n",
       "      <td>NaN</td>\n",
       "      <td>NaN</td>\n",
       "      <td>NaN</td>\n",
       "      <td>69.305795</td>\n",
       "      <td>23.344905</td>\n",
       "      <td>21.0</td>\n",
       "      <td>59.0</td>\n",
       "      <td>68.0</td>\n",
       "      <td>80.0</td>\n",
       "      <td>313.0</td>\n",
       "    </tr>\n",
       "    <tr>\n",
       "      <th>LotArea</th>\n",
       "      <td>2919.0</td>\n",
       "      <td>NaN</td>\n",
       "      <td>NaN</td>\n",
       "      <td>NaN</td>\n",
       "      <td>10168.11408</td>\n",
       "      <td>7886.996359</td>\n",
       "      <td>1300.0</td>\n",
       "      <td>7478.0</td>\n",
       "      <td>9453.0</td>\n",
       "      <td>11570.0</td>\n",
       "      <td>215245.0</td>\n",
       "    </tr>\n",
       "    <tr>\n",
       "      <th>...</th>\n",
       "      <td>...</td>\n",
       "      <td>...</td>\n",
       "      <td>...</td>\n",
       "      <td>...</td>\n",
       "      <td>...</td>\n",
       "      <td>...</td>\n",
       "      <td>...</td>\n",
       "      <td>...</td>\n",
       "      <td>...</td>\n",
       "      <td>...</td>\n",
       "      <td>...</td>\n",
       "    </tr>\n",
       "    <tr>\n",
       "      <th>MoSold</th>\n",
       "      <td>2919.0</td>\n",
       "      <td>NaN</td>\n",
       "      <td>NaN</td>\n",
       "      <td>NaN</td>\n",
       "      <td>6.213087</td>\n",
       "      <td>2.714762</td>\n",
       "      <td>1.0</td>\n",
       "      <td>4.0</td>\n",
       "      <td>6.0</td>\n",
       "      <td>8.0</td>\n",
       "      <td>12.0</td>\n",
       "    </tr>\n",
       "    <tr>\n",
       "      <th>YrSold</th>\n",
       "      <td>2919.0</td>\n",
       "      <td>NaN</td>\n",
       "      <td>NaN</td>\n",
       "      <td>NaN</td>\n",
       "      <td>2007.792737</td>\n",
       "      <td>1.314964</td>\n",
       "      <td>2006.0</td>\n",
       "      <td>2007.0</td>\n",
       "      <td>2008.0</td>\n",
       "      <td>2009.0</td>\n",
       "      <td>2010.0</td>\n",
       "    </tr>\n",
       "    <tr>\n",
       "      <th>SaleType</th>\n",
       "      <td>2918</td>\n",
       "      <td>9</td>\n",
       "      <td>WD</td>\n",
       "      <td>2525</td>\n",
       "      <td>NaN</td>\n",
       "      <td>NaN</td>\n",
       "      <td>NaN</td>\n",
       "      <td>NaN</td>\n",
       "      <td>NaN</td>\n",
       "      <td>NaN</td>\n",
       "      <td>NaN</td>\n",
       "    </tr>\n",
       "    <tr>\n",
       "      <th>SaleCondition</th>\n",
       "      <td>2919</td>\n",
       "      <td>6</td>\n",
       "      <td>Normal</td>\n",
       "      <td>2402</td>\n",
       "      <td>NaN</td>\n",
       "      <td>NaN</td>\n",
       "      <td>NaN</td>\n",
       "      <td>NaN</td>\n",
       "      <td>NaN</td>\n",
       "      <td>NaN</td>\n",
       "      <td>NaN</td>\n",
       "    </tr>\n",
       "    <tr>\n",
       "      <th>SalePrice</th>\n",
       "      <td>1460.0</td>\n",
       "      <td>NaN</td>\n",
       "      <td>NaN</td>\n",
       "      <td>NaN</td>\n",
       "      <td>180921.19589</td>\n",
       "      <td>79442.502883</td>\n",
       "      <td>34900.0</td>\n",
       "      <td>129975.0</td>\n",
       "      <td>163000.0</td>\n",
       "      <td>214000.0</td>\n",
       "      <td>755000.0</td>\n",
       "    </tr>\n",
       "  </tbody>\n",
       "</table>\n",
       "<p>81 rows × 11 columns</p>\n",
       "</div>"
      ],
      "text/plain": [
       "                count unique     top  freq          mean           std  \\\n",
       "Id             2919.0    NaN     NaN   NaN        1460.0    842.787043   \n",
       "MSSubClass     2919.0    NaN     NaN   NaN     57.137718     42.517628   \n",
       "MSZoning         2915      5      RL  2265           NaN           NaN   \n",
       "LotFrontage    2433.0    NaN     NaN   NaN     69.305795     23.344905   \n",
       "LotArea        2919.0    NaN     NaN   NaN   10168.11408   7886.996359   \n",
       "...               ...    ...     ...   ...           ...           ...   \n",
       "MoSold         2919.0    NaN     NaN   NaN      6.213087      2.714762   \n",
       "YrSold         2919.0    NaN     NaN   NaN   2007.792737      1.314964   \n",
       "SaleType         2918      9      WD  2525           NaN           NaN   \n",
       "SaleCondition    2919      6  Normal  2402           NaN           NaN   \n",
       "SalePrice      1460.0    NaN     NaN   NaN  180921.19589  79442.502883   \n",
       "\n",
       "                   min       25%       50%       75%       max  \n",
       "Id                 1.0     730.5    1460.0    2189.5    2919.0  \n",
       "MSSubClass        20.0      20.0      50.0      70.0     190.0  \n",
       "MSZoning           NaN       NaN       NaN       NaN       NaN  \n",
       "LotFrontage       21.0      59.0      68.0      80.0     313.0  \n",
       "LotArea         1300.0    7478.0    9453.0   11570.0  215245.0  \n",
       "...                ...       ...       ...       ...       ...  \n",
       "MoSold             1.0       4.0       6.0       8.0      12.0  \n",
       "YrSold          2006.0    2007.0    2008.0    2009.0    2010.0  \n",
       "SaleType           NaN       NaN       NaN       NaN       NaN  \n",
       "SaleCondition      NaN       NaN       NaN       NaN       NaN  \n",
       "SalePrice      34900.0  129975.0  163000.0  214000.0  755000.0  \n",
       "\n",
       "[81 rows x 11 columns]"
      ]
     },
     "execution_count": 11,
     "metadata": {},
     "output_type": "execute_result"
    }
   ],
   "source": [
    "data.describe(include='all').T"
   ]
  },
  {
   "cell_type": "markdown",
   "id": "4be48c37",
   "metadata": {
    "papermill": {
     "duration": 0.012379,
     "end_time": "2022-06-15T10:45:34.000890",
     "exception": false,
     "start_time": "2022-06-15T10:45:33.988511",
     "status": "completed"
    },
    "tags": []
   },
   "source": [
    "### lets find  the duplicates"
   ]
  },
  {
   "cell_type": "code",
   "execution_count": 12,
   "id": "8fbc5287",
   "metadata": {
    "execution": {
     "iopub.execute_input": "2022-06-15T10:45:34.026711Z",
     "iopub.status.busy": "2022-06-15T10:45:34.026189Z",
     "iopub.status.idle": "2022-06-15T10:45:34.051976Z",
     "shell.execute_reply": "2022-06-15T10:45:34.051120Z"
    },
    "papermill": {
     "duration": 0.041112,
     "end_time": "2022-06-15T10:45:34.054015",
     "exception": false,
     "start_time": "2022-06-15T10:45:34.012903",
     "status": "completed"
    },
    "tags": []
   },
   "outputs": [
    {
     "data": {
      "text/plain": [
       "0"
      ]
     },
     "execution_count": 12,
     "metadata": {},
     "output_type": "execute_result"
    }
   ],
   "source": [
    "data.duplicated().sum()"
   ]
  },
  {
   "cell_type": "markdown",
   "id": "a869f1f5",
   "metadata": {
    "papermill": {
     "duration": 0.012074,
     "end_time": "2022-06-15T10:45:34.078694",
     "exception": false,
     "start_time": "2022-06-15T10:45:34.066620",
     "status": "completed"
    },
    "tags": []
   },
   "source": [
    "### Lets clean the data and try to drop the unwanted columns"
   ]
  },
  {
   "cell_type": "markdown",
   "id": "8da969ea",
   "metadata": {
    "papermill": {
     "duration": 0.011949,
     "end_time": "2022-06-15T10:45:34.102886",
     "exception": false,
     "start_time": "2022-06-15T10:45:34.090937",
     "status": "completed"
    },
    "tags": []
   },
   "source": [
    "### Find the missing Values"
   ]
  },
  {
   "cell_type": "code",
   "execution_count": 13,
   "id": "dd48cd28",
   "metadata": {
    "execution": {
     "iopub.execute_input": "2022-06-15T10:45:34.129247Z",
     "iopub.status.busy": "2022-06-15T10:45:34.128845Z",
     "iopub.status.idle": "2022-06-15T10:45:34.133414Z",
     "shell.execute_reply": "2022-06-15T10:45:34.132487Z"
    },
    "papermill": {
     "duration": 0.01984,
     "end_time": "2022-06-15T10:45:34.135182",
     "exception": false,
     "start_time": "2022-06-15T10:45:34.115342",
     "status": "completed"
    },
    "tags": []
   },
   "outputs": [],
   "source": [
    "pd.set_option('display.max_rows', None)"
   ]
  },
  {
   "cell_type": "code",
   "execution_count": 14,
   "id": "2f390f4b",
   "metadata": {
    "execution": {
     "iopub.execute_input": "2022-06-15T10:45:34.161256Z",
     "iopub.status.busy": "2022-06-15T10:45:34.160856Z",
     "iopub.status.idle": "2022-06-15T10:45:34.180119Z",
     "shell.execute_reply": "2022-06-15T10:45:34.179323Z"
    },
    "papermill": {
     "duration": 0.034211,
     "end_time": "2022-06-15T10:45:34.181826",
     "exception": false,
     "start_time": "2022-06-15T10:45:34.147615",
     "status": "completed"
    },
    "tags": []
   },
   "outputs": [
    {
     "data": {
      "text/plain": [
       "Id                  0\n",
       "MSSubClass          0\n",
       "MSZoning            4\n",
       "LotFrontage       486\n",
       "LotArea             0\n",
       "Street              0\n",
       "Alley            2721\n",
       "LotShape            0\n",
       "LandContour         0\n",
       "Utilities           2\n",
       "LotConfig           0\n",
       "LandSlope           0\n",
       "Neighborhood        0\n",
       "Condition1          0\n",
       "Condition2          0\n",
       "BldgType            0\n",
       "HouseStyle          0\n",
       "OverallQual         0\n",
       "OverallCond         0\n",
       "YearBuilt           0\n",
       "YearRemodAdd        0\n",
       "RoofStyle           0\n",
       "RoofMatl            0\n",
       "Exterior1st         1\n",
       "Exterior2nd         1\n",
       "MasVnrType         24\n",
       "MasVnrArea         23\n",
       "ExterQual           0\n",
       "ExterCond           0\n",
       "Foundation          0\n",
       "BsmtQual           81\n",
       "BsmtCond           82\n",
       "BsmtExposure       82\n",
       "BsmtFinType1       79\n",
       "BsmtFinSF1          1\n",
       "BsmtFinType2       80\n",
       "BsmtFinSF2          1\n",
       "BsmtUnfSF           1\n",
       "TotalBsmtSF         1\n",
       "Heating             0\n",
       "HeatingQC           0\n",
       "CentralAir          0\n",
       "Electrical          1\n",
       "1stFlrSF            0\n",
       "2ndFlrSF            0\n",
       "LowQualFinSF        0\n",
       "GrLivArea           0\n",
       "BsmtFullBath        2\n",
       "BsmtHalfBath        2\n",
       "FullBath            0\n",
       "HalfBath            0\n",
       "BedroomAbvGr        0\n",
       "KitchenAbvGr        0\n",
       "KitchenQual         1\n",
       "TotRmsAbvGrd        0\n",
       "Functional          2\n",
       "Fireplaces          0\n",
       "FireplaceQu      1420\n",
       "GarageType        157\n",
       "GarageYrBlt       159\n",
       "GarageFinish      159\n",
       "GarageCars          1\n",
       "GarageArea          1\n",
       "GarageQual        159\n",
       "GarageCond        159\n",
       "PavedDrive          0\n",
       "WoodDeckSF          0\n",
       "OpenPorchSF         0\n",
       "EnclosedPorch       0\n",
       "3SsnPorch           0\n",
       "ScreenPorch         0\n",
       "PoolArea            0\n",
       "PoolQC           2909\n",
       "Fence            2348\n",
       "MiscFeature      2814\n",
       "MiscVal             0\n",
       "MoSold              0\n",
       "YrSold              0\n",
       "SaleType            1\n",
       "SaleCondition       0\n",
       "SalePrice        1459\n",
       "dtype: int64"
      ]
     },
     "execution_count": 14,
     "metadata": {},
     "output_type": "execute_result"
    }
   ],
   "source": [
    "data.isnull().sum()"
   ]
  },
  {
   "cell_type": "code",
   "execution_count": 15,
   "id": "fce71dd5",
   "metadata": {
    "execution": {
     "iopub.execute_input": "2022-06-15T10:45:34.207945Z",
     "iopub.status.busy": "2022-06-15T10:45:34.207439Z",
     "iopub.status.idle": "2022-06-15T10:45:35.594912Z",
     "shell.execute_reply": "2022-06-15T10:45:35.594064Z"
    },
    "papermill": {
     "duration": 1.403381,
     "end_time": "2022-06-15T10:45:35.597527",
     "exception": false,
     "start_time": "2022-06-15T10:45:34.194146",
     "status": "completed"
    },
    "tags": []
   },
   "outputs": [
    {
     "data": {
      "text/plain": [
       "<AxesSubplot:>"
      ]
     },
     "execution_count": 15,
     "metadata": {},
     "output_type": "execute_result"
    },
    {
     "data": {
      "image/png": "[encoded data removed]",
      "text/plain": [
       "<Figure size 1080x864 with 1 Axes>"
      ]
     },
     "metadata": {
      "needs_background": "light"
     },
     "output_type": "display_data"
    }
   ],
   "source": [
    "import matplotlib.pyplot as plt\n",
    "plt.figure(figsize=(15,12))\n",
    "sns.heatmap(data.isnull(),yticklabels=False,cbar=False,cmap='YlGnBu')"
   ]
  },
  {
   "cell_type": "markdown",
   "id": "59911a99",
   "metadata": {
    "papermill": {
     "duration": 0.013284,
     "end_time": "2022-06-15T10:45:35.624929",
     "exception": false,
     "start_time": "2022-06-15T10:45:35.611645",
     "status": "completed"
    },
    "tags": []
   },
   "source": [
    "### dropping the columns which have more than 50 percent null values"
   ]
  },
  {
   "cell_type": "code",
   "execution_count": 16,
   "id": "b94af59c",
   "metadata": {
    "execution": {
     "iopub.execute_input": "2022-06-15T10:45:35.653717Z",
     "iopub.status.busy": "2022-06-15T10:45:35.653301Z",
     "iopub.status.idle": "2022-06-15T10:45:35.672991Z",
     "shell.execute_reply": "2022-06-15T10:45:35.672124Z"
    },
    "papermill": {
     "duration": 0.0364,
     "end_time": "2022-06-15T10:45:35.674854",
     "exception": false,
     "start_time": "2022-06-15T10:45:35.638454",
     "status": "completed"
    },
    "tags": []
   },
   "outputs": [
    {
     "data": {
      "text/plain": [
       "PoolQC           2909\n",
       "MiscFeature      2814\n",
       "Alley            2721\n",
       "Fence            2348\n",
       "SalePrice        1459\n",
       "FireplaceQu      1420\n",
       "LotFrontage       486\n",
       "GarageFinish      159\n",
       "GarageQual        159\n",
       "GarageCond        159\n",
       "GarageYrBlt       159\n",
       "GarageType        157\n",
       "BsmtExposure       82\n",
       "BsmtCond           82\n",
       "BsmtQual           81\n",
       "BsmtFinType2       80\n",
       "BsmtFinType1       79\n",
       "MasVnrType         24\n",
       "MasVnrArea         23\n",
       "MSZoning            4\n",
       "Functional          2\n",
       "BsmtHalfBath        2\n",
       "BsmtFullBath        2\n",
       "Utilities           2\n",
       "BsmtFinSF1          1\n",
       "BsmtFinSF2          1\n",
       "SaleType            1\n",
       "Electrical          1\n",
       "GarageCars          1\n",
       "TotalBsmtSF         1\n",
       "GarageArea          1\n",
       "Exterior2nd         1\n",
       "Exterior1st         1\n",
       "KitchenQual         1\n",
       "BsmtUnfSF           1\n",
       "Fireplaces          0\n",
       "TotRmsAbvGrd        0\n",
       "SaleCondition       0\n",
       "OpenPorchSF         0\n",
       "YrSold              0\n",
       "WoodDeckSF          0\n",
       "MoSold              0\n",
       "MiscVal             0\n",
       "PoolArea            0\n",
       "ScreenPorch         0\n",
       "BedroomAbvGr        0\n",
       "3SsnPorch           0\n",
       "EnclosedPorch       0\n",
       "PavedDrive          0\n",
       "KitchenAbvGr        0\n",
       "Id                  0\n",
       "HalfBath            0\n",
       "FullBath            0\n",
       "LotArea             0\n",
       "Street              0\n",
       "LotShape            0\n",
       "LandContour         0\n",
       "LotConfig           0\n",
       "LandSlope           0\n",
       "Neighborhood        0\n",
       "Condition1          0\n",
       "Condition2          0\n",
       "BldgType            0\n",
       "HouseStyle          0\n",
       "OverallQual         0\n",
       "OverallCond         0\n",
       "YearBuilt           0\n",
       "YearRemodAdd        0\n",
       "RoofStyle           0\n",
       "RoofMatl            0\n",
       "ExterQual           0\n",
       "ExterCond           0\n",
       "Foundation          0\n",
       "Heating             0\n",
       "MSSubClass          0\n",
       "CentralAir          0\n",
       "1stFlrSF            0\n",
       "2ndFlrSF            0\n",
       "LowQualFinSF        0\n",
       "GrLivArea           0\n",
       "HeatingQC           0\n",
       "dtype: int64"
      ]
     },
     "execution_count": 16,
     "metadata": {},
     "output_type": "execute_result"
    }
   ],
   "source": [
    "data.isnull().sum().sort_values(ascending=False)"
   ]
  },
  {
   "cell_type": "code",
   "execution_count": 17,
   "id": "8f172ae4",
   "metadata": {
    "execution": {
     "iopub.execute_input": "2022-06-15T10:45:35.703721Z",
     "iopub.status.busy": "2022-06-15T10:45:35.702965Z",
     "iopub.status.idle": "2022-06-15T10:45:35.708722Z",
     "shell.execute_reply": "2022-06-15T10:45:35.708078Z"
    },
    "papermill": {
     "duration": 0.022109,
     "end_time": "2022-06-15T10:45:35.710475",
     "exception": false,
     "start_time": "2022-06-15T10:45:35.688366",
     "status": "completed"
    },
    "tags": []
   },
   "outputs": [
    {
     "data": {
      "text/plain": [
       "(2919, 81)"
      ]
     },
     "execution_count": 17,
     "metadata": {},
     "output_type": "execute_result"
    }
   ],
   "source": [
    "data.shape   # Combined data of both train and test "
   ]
  },
  {
   "cell_type": "markdown",
   "id": "3ab3403f",
   "metadata": {
    "papermill": {
     "duration": 0.013156,
     "end_time": "2022-06-15T10:45:35.740505",
     "exception": false,
     "start_time": "2022-06-15T10:45:35.727349",
     "status": "completed"
    },
    "tags": []
   },
   "source": [
    "### We could see four features (PoolQC,MiscFeature,Alley,Fence) have more than 50 percent nulldata, so we are dropping these columns. And also dropping Id column which is not required for modelling.\n",
    "    "
   ]
  },
  {
   "cell_type": "code",
   "execution_count": 18,
   "id": "1a0ec539",
   "metadata": {
    "execution": {
     "iopub.execute_input": "2022-06-15T10:45:35.769152Z",
     "iopub.status.busy": "2022-06-15T10:45:35.768455Z",
     "iopub.status.idle": "2022-06-15T10:45:35.777711Z",
     "shell.execute_reply": "2022-06-15T10:45:35.777080Z"
    },
    "papermill": {
     "duration": 0.025923,
     "end_time": "2022-06-15T10:45:35.779779",
     "exception": false,
     "start_time": "2022-06-15T10:45:35.753856",
     "status": "completed"
    },
    "tags": []
   },
   "outputs": [],
   "source": [
    "data.drop(columns=['PoolQC','Fence','MiscFeature','Alley','Id'], axis =1 , inplace=True)"
   ]
  },
  {
   "cell_type": "code",
   "execution_count": 19,
   "id": "fc68282e",
   "metadata": {
    "execution": {
     "iopub.execute_input": "2022-06-15T10:45:35.808290Z",
     "iopub.status.busy": "2022-06-15T10:45:35.807899Z",
     "iopub.status.idle": "2022-06-15T10:45:35.814561Z",
     "shell.execute_reply": "2022-06-15T10:45:35.813893Z"
    },
    "papermill": {
     "duration": 0.023122,
     "end_time": "2022-06-15T10:45:35.816457",
     "exception": false,
     "start_time": "2022-06-15T10:45:35.793335",
     "status": "completed"
    },
    "tags": []
   },
   "outputs": [],
   "source": [
    "data.drop(columns=['SalePrice'], axis=1, inplace=True)"
   ]
  },
  {
   "cell_type": "code",
   "execution_count": 20,
   "id": "94c910e3",
   "metadata": {
    "execution": {
     "iopub.execute_input": "2022-06-15T10:45:35.845391Z",
     "iopub.status.busy": "2022-06-15T10:45:35.844799Z",
     "iopub.status.idle": "2022-06-15T10:45:35.849910Z",
     "shell.execute_reply": "2022-06-15T10:45:35.849091Z"
    },
    "papermill": {
     "duration": 0.021695,
     "end_time": "2022-06-15T10:45:35.851695",
     "exception": false,
     "start_time": "2022-06-15T10:45:35.830000",
     "status": "completed"
    },
    "tags": []
   },
   "outputs": [
    {
     "data": {
      "text/plain": [
       "(2919, 75)"
      ]
     },
     "execution_count": 20,
     "metadata": {},
     "output_type": "execute_result"
    }
   ],
   "source": [
    "data.shape    ## five columns dropped"
   ]
  },
  {
   "cell_type": "markdown",
   "id": "55cab37b",
   "metadata": {
    "papermill": {
     "duration": 0.013097,
     "end_time": "2022-06-15T10:45:35.878332",
     "exception": false,
     "start_time": "2022-06-15T10:45:35.865235",
     "status": "completed"
    },
    "tags": []
   },
   "source": [
    "### Handling missing values"
   ]
  },
  {
   "cell_type": "code",
   "execution_count": 21,
   "id": "7614222b",
   "metadata": {
    "execution": {
     "iopub.execute_input": "2022-06-15T10:45:35.907200Z",
     "iopub.status.busy": "2022-06-15T10:45:35.906529Z",
     "iopub.status.idle": "2022-06-15T10:45:35.915480Z",
     "shell.execute_reply": "2022-06-15T10:45:35.914810Z"
    },
    "papermill": {
     "duration": 0.025357,
     "end_time": "2022-06-15T10:45:35.917198",
     "exception": false,
     "start_time": "2022-06-15T10:45:35.891841",
     "status": "completed"
    },
    "tags": []
   },
   "outputs": [
    {
     "data": {
      "text/plain": [
       "39"
      ]
     },
     "execution_count": 21,
     "metadata": {},
     "output_type": "execute_result"
    }
   ],
   "source": [
    "object_columns = [i for i in data.columns if data[i].dtype == 'object']\n",
    "len(object_columns)"
   ]
  },
  {
   "cell_type": "code",
   "execution_count": 22,
   "id": "293b5be7",
   "metadata": {
    "execution": {
     "iopub.execute_input": "2022-06-15T10:45:35.946235Z",
     "iopub.status.busy": "2022-06-15T10:45:35.945560Z",
     "iopub.status.idle": "2022-06-15T10:45:35.951575Z",
     "shell.execute_reply": "2022-06-15T10:45:35.950922Z"
    },
    "papermill": {
     "duration": 0.022488,
     "end_time": "2022-06-15T10:45:35.953295",
     "exception": false,
     "start_time": "2022-06-15T10:45:35.930807",
     "status": "completed"
    },
    "tags": []
   },
   "outputs": [
    {
     "data": {
      "text/plain": [
       "['MSZoning',\n",
       " 'Street',\n",
       " 'LotShape',\n",
       " 'LandContour',\n",
       " 'Utilities',\n",
       " 'LotConfig',\n",
       " 'LandSlope',\n",
       " 'Neighborhood',\n",
       " 'Condition1',\n",
       " 'Condition2',\n",
       " 'BldgType',\n",
       " 'HouseStyle',\n",
       " 'RoofStyle',\n",
       " 'RoofMatl',\n",
       " 'Exterior1st',\n",
       " 'Exterior2nd',\n",
       " 'MasVnrType',\n",
       " 'ExterQual',\n",
       " 'ExterCond',\n",
       " 'Foundation',\n",
       " 'BsmtQual',\n",
       " 'BsmtCond',\n",
       " 'BsmtExposure',\n",
       " 'BsmtFinType1',\n",
       " 'BsmtFinType2',\n",
       " 'Heating',\n",
       " 'HeatingQC',\n",
       " 'CentralAir',\n",
       " 'Electrical',\n",
       " 'KitchenQual',\n",
       " 'Functional',\n",
       " 'FireplaceQu',\n",
       " 'GarageType',\n",
       " 'GarageFinish',\n",
       " 'GarageQual',\n",
       " 'GarageCond',\n",
       " 'PavedDrive',\n",
       " 'SaleType',\n",
       " 'SaleCondition']"
      ]
     },
     "execution_count": 22,
     "metadata": {},
     "output_type": "execute_result"
    }
   ],
   "source": [
    "object_columns"
   ]
  },
  {
   "cell_type": "code",
   "execution_count": 23,
   "id": "af69dc70",
   "metadata": {
    "execution": {
     "iopub.execute_input": "2022-06-15T10:45:35.982664Z",
     "iopub.status.busy": "2022-06-15T10:45:35.981944Z",
     "iopub.status.idle": "2022-06-15T10:45:35.988882Z",
     "shell.execute_reply": "2022-06-15T10:45:35.988191Z"
    },
    "papermill": {
     "duration": 0.0237,
     "end_time": "2022-06-15T10:45:35.990623",
     "exception": false,
     "start_time": "2022-06-15T10:45:35.966923",
     "status": "completed"
    },
    "tags": []
   },
   "outputs": [
    {
     "data": {
      "text/plain": [
       "36"
      ]
     },
     "execution_count": 23,
     "metadata": {},
     "output_type": "execute_result"
    }
   ],
   "source": [
    "numerical_columns = [i for i in data.columns if data[i].dtype in ['int64', 'float64']]\n",
    "len(numerical_columns)"
   ]
  },
  {
   "cell_type": "code",
   "execution_count": 24,
   "id": "f48bdf2b",
   "metadata": {
    "execution": {
     "iopub.execute_input": "2022-06-15T10:45:36.020179Z",
     "iopub.status.busy": "2022-06-15T10:45:36.019484Z",
     "iopub.status.idle": "2022-06-15T10:45:36.025575Z",
     "shell.execute_reply": "2022-06-15T10:45:36.024923Z"
    },
    "papermill": {
     "duration": 0.022714,
     "end_time": "2022-06-15T10:45:36.027261",
     "exception": false,
     "start_time": "2022-06-15T10:45:36.004547",
     "status": "completed"
    },
    "tags": []
   },
   "outputs": [
    {
     "data": {
      "text/plain": [
       "['MSSubClass',\n",
       " 'LotFrontage',\n",
       " 'LotArea',\n",
       " 'OverallQual',\n",
       " 'OverallCond',\n",
       " 'YearBuilt',\n",
       " 'YearRemodAdd',\n",
       " 'MasVnrArea',\n",
       " 'BsmtFinSF1',\n",
       " 'BsmtFinSF2',\n",
       " 'BsmtUnfSF',\n",
       " 'TotalBsmtSF',\n",
       " '1stFlrSF',\n",
       " '2ndFlrSF',\n",
       " 'LowQualFinSF',\n",
       " 'GrLivArea',\n",
       " 'BsmtFullBath',\n",
       " 'BsmtHalfBath',\n",
       " 'FullBath',\n",
       " 'HalfBath',\n",
       " 'BedroomAbvGr',\n",
       " 'KitchenAbvGr',\n",
       " 'TotRmsAbvGrd',\n",
       " 'Fireplaces',\n",
       " 'GarageYrBlt',\n",
       " 'GarageCars',\n",
       " 'GarageArea',\n",
       " 'WoodDeckSF',\n",
       " 'OpenPorchSF',\n",
       " 'EnclosedPorch',\n",
       " '3SsnPorch',\n",
       " 'ScreenPorch',\n",
       " 'PoolArea',\n",
       " 'MiscVal',\n",
       " 'MoSold',\n",
       " 'YrSold']"
      ]
     },
     "execution_count": 24,
     "metadata": {},
     "output_type": "execute_result"
    }
   ],
   "source": [
    "numerical_columns"
   ]
  },
  {
   "cell_type": "code",
   "execution_count": 25,
   "id": "f8035782",
   "metadata": {
    "execution": {
     "iopub.execute_input": "2022-06-15T10:45:36.057088Z",
     "iopub.status.busy": "2022-06-15T10:45:36.056376Z",
     "iopub.status.idle": "2022-06-15T10:45:36.060572Z",
     "shell.execute_reply": "2022-06-15T10:45:36.059911Z"
    },
    "papermill": {
     "duration": 0.02114,
     "end_time": "2022-06-15T10:45:36.062377",
     "exception": false,
     "start_time": "2022-06-15T10:45:36.041237",
     "status": "completed"
    },
    "tags": []
   },
   "outputs": [],
   "source": [
    "## 39 + 36  = 75  - we have segregated the categorical and numerical columns to handle missing values respectively"
   ]
  },
  {
   "cell_type": "code",
   "execution_count": 26,
   "id": "8f3da421",
   "metadata": {
    "execution": {
     "iopub.execute_input": "2022-06-15T10:45:36.092038Z",
     "iopub.status.busy": "2022-06-15T10:45:36.091643Z",
     "iopub.status.idle": "2022-06-15T10:45:36.132821Z",
     "shell.execute_reply": "2022-06-15T10:45:36.132110Z"
    },
    "papermill": {
     "duration": 0.05844,
     "end_time": "2022-06-15T10:45:36.134815",
     "exception": false,
     "start_time": "2022-06-15T10:45:36.076375",
     "status": "completed"
    },
    "tags": []
   },
   "outputs": [],
   "source": [
    "def HandleMissingValues(df):\n",
    "    values = {}\n",
    "    for i in object_columns:\n",
    "        values[i] = df[i].mode()[0]\n",
    "    for i in numerical_columns:\n",
    "        values[i] = df[i].mean()\n",
    "    df.fillna(value=values,inplace=True)\n",
    "HandleMissingValues(data)\n"
   ]
  },
  {
   "cell_type": "code",
   "execution_count": 27,
   "id": "83a54748",
   "metadata": {
    "execution": {
     "iopub.execute_input": "2022-06-15T10:45:36.164819Z",
     "iopub.status.busy": "2022-06-15T10:45:36.164150Z",
     "iopub.status.idle": "2022-06-15T10:45:36.177963Z",
     "shell.execute_reply": "2022-06-15T10:45:36.177090Z"
    },
    "papermill": {
     "duration": 0.030853,
     "end_time": "2022-06-15T10:45:36.179757",
     "exception": false,
     "start_time": "2022-06-15T10:45:36.148904",
     "status": "completed"
    },
    "tags": []
   },
   "outputs": [
    {
     "data": {
      "text/plain": [
       "MSSubClass       0\n",
       "MSZoning         0\n",
       "LotFrontage      0\n",
       "LotArea          0\n",
       "Street           0\n",
       "LotShape         0\n",
       "LandContour      0\n",
       "Utilities        0\n",
       "LotConfig        0\n",
       "LandSlope        0\n",
       "Neighborhood     0\n",
       "Condition1       0\n",
       "Condition2       0\n",
       "BldgType         0\n",
       "HouseStyle       0\n",
       "OverallQual      0\n",
       "OverallCond      0\n",
       "YearBuilt        0\n",
       "YearRemodAdd     0\n",
       "RoofStyle        0\n",
       "RoofMatl         0\n",
       "Exterior1st      0\n",
       "Exterior2nd      0\n",
       "MasVnrType       0\n",
       "MasVnrArea       0\n",
       "ExterQual        0\n",
       "ExterCond        0\n",
       "Foundation       0\n",
       "BsmtQual         0\n",
       "BsmtCond         0\n",
       "BsmtExposure     0\n",
       "BsmtFinType1     0\n",
       "BsmtFinSF1       0\n",
       "BsmtFinType2     0\n",
       "BsmtFinSF2       0\n",
       "BsmtUnfSF        0\n",
       "TotalBsmtSF      0\n",
       "Heating          0\n",
       "HeatingQC        0\n",
       "CentralAir       0\n",
       "Electrical       0\n",
       "1stFlrSF         0\n",
       "2ndFlrSF         0\n",
       "LowQualFinSF     0\n",
       "GrLivArea        0\n",
       "BsmtFullBath     0\n",
       "BsmtHalfBath     0\n",
       "FullBath         0\n",
       "HalfBath         0\n",
       "BedroomAbvGr     0\n",
       "KitchenAbvGr     0\n",
       "KitchenQual      0\n",
       "TotRmsAbvGrd     0\n",
       "Functional       0\n",
       "Fireplaces       0\n",
       "FireplaceQu      0\n",
       "GarageType       0\n",
       "GarageYrBlt      0\n",
       "GarageFinish     0\n",
       "GarageCars       0\n",
       "GarageArea       0\n",
       "GarageQual       0\n",
       "GarageCond       0\n",
       "PavedDrive       0\n",
       "WoodDeckSF       0\n",
       "OpenPorchSF      0\n",
       "EnclosedPorch    0\n",
       "3SsnPorch        0\n",
       "ScreenPorch      0\n",
       "PoolArea         0\n",
       "MiscVal          0\n",
       "MoSold           0\n",
       "YrSold           0\n",
       "SaleType         0\n",
       "SaleCondition    0\n",
       "dtype: int64"
      ]
     },
     "execution_count": 27,
     "metadata": {},
     "output_type": "execute_result"
    }
   ],
   "source": [
    "data.isnull().sum()        # null values has been handled"
   ]
  },
  {
   "cell_type": "markdown",
   "id": "cd3777d4",
   "metadata": {
    "papermill": {
     "duration": 0.014384,
     "end_time": "2022-06-15T10:45:36.208199",
     "exception": false,
     "start_time": "2022-06-15T10:45:36.193815",
     "status": "completed"
    },
    "tags": []
   },
   "source": [
    "### One hot encoding the categorical values"
   ]
  },
  {
   "cell_type": "code",
   "execution_count": 28,
   "id": "16382834",
   "metadata": {
    "execution": {
     "iopub.execute_input": "2022-06-15T10:45:36.238171Z",
     "iopub.status.busy": "2022-06-15T10:45:36.237499Z",
     "iopub.status.idle": "2022-06-15T10:45:36.242627Z",
     "shell.execute_reply": "2022-06-15T10:45:36.242056Z"
    },
    "papermill": {
     "duration": 0.02209,
     "end_time": "2022-06-15T10:45:36.244360",
     "exception": false,
     "start_time": "2022-06-15T10:45:36.222270",
     "status": "completed"
    },
    "tags": []
   },
   "outputs": [],
   "source": [
    "def dummy_df(df, dummy_col_list):\n",
    "    for x in dummy_col_list:\n",
    "        dummies = pd.get_dummies(df[x], dummy_na=False)\n",
    "        df =df.drop(x,1)\n",
    "        df =pd.concat([df,dummies], axis =1)\n",
    "    return df\n"
   ]
  },
  {
   "cell_type": "code",
   "execution_count": 29,
   "id": "ed50a844",
   "metadata": {
    "execution": {
     "iopub.execute_input": "2022-06-15T10:45:36.274173Z",
     "iopub.status.busy": "2022-06-15T10:45:36.273499Z",
     "iopub.status.idle": "2022-06-15T10:45:36.553541Z",
     "shell.execute_reply": "2022-06-15T10:45:36.552619Z"
    },
    "papermill": {
     "duration": 0.29745,
     "end_time": "2022-06-15T10:45:36.555773",
     "exception": false,
     "start_time": "2022-06-15T10:45:36.258323",
     "status": "completed"
    },
    "tags": []
   },
   "outputs": [],
   "source": [
    "data = dummy_df(data,object_columns)"
   ]
  },
  {
   "cell_type": "code",
   "execution_count": 30,
   "id": "9dcb6005",
   "metadata": {
    "execution": {
     "iopub.execute_input": "2022-06-15T10:45:36.586253Z",
     "iopub.status.busy": "2022-06-15T10:45:36.585854Z",
     "iopub.status.idle": "2022-06-15T10:45:36.591400Z",
     "shell.execute_reply": "2022-06-15T10:45:36.590553Z"
    },
    "papermill": {
     "duration": 0.022906,
     "end_time": "2022-06-15T10:45:36.593263",
     "exception": false,
     "start_time": "2022-06-15T10:45:36.570357",
     "status": "completed"
    },
    "tags": []
   },
   "outputs": [
    {
     "data": {
      "text/plain": [
       "(2919, 275)"
      ]
     },
     "execution_count": 30,
     "metadata": {},
     "output_type": "execute_result"
    }
   ],
   "source": [
    "data.shape"
   ]
  },
  {
   "cell_type": "markdown",
   "id": "8e857af0",
   "metadata": {
    "papermill": {
     "duration": 0.013933,
     "end_time": "2022-06-15T10:45:36.621583",
     "exception": false,
     "start_time": "2022-06-15T10:45:36.607650",
     "status": "completed"
    },
    "tags": []
   },
   "source": [
    "### Removing the duplicated columns "
   ]
  },
  {
   "cell_type": "code",
   "execution_count": 31,
   "id": "d75e927f",
   "metadata": {
    "execution": {
     "iopub.execute_input": "2022-06-15T10:45:36.651540Z",
     "iopub.status.busy": "2022-06-15T10:45:36.651147Z",
     "iopub.status.idle": "2022-06-15T10:45:36.657764Z",
     "shell.execute_reply": "2022-06-15T10:45:36.656919Z"
    },
    "papermill": {
     "duration": 0.023978,
     "end_time": "2022-06-15T10:45:36.659731",
     "exception": false,
     "start_time": "2022-06-15T10:45:36.635753",
     "status": "completed"
    },
    "tags": []
   },
   "outputs": [],
   "source": [
    "final_data =data.loc[:,~data.columns.duplicated()]"
   ]
  },
  {
   "cell_type": "code",
   "execution_count": 32,
   "id": "4681e858",
   "metadata": {
    "execution": {
     "iopub.execute_input": "2022-06-15T10:45:36.689999Z",
     "iopub.status.busy": "2022-06-15T10:45:36.689613Z",
     "iopub.status.idle": "2022-06-15T10:45:36.695127Z",
     "shell.execute_reply": "2022-06-15T10:45:36.694280Z"
    },
    "papermill": {
     "duration": 0.022653,
     "end_time": "2022-06-15T10:45:36.696892",
     "exception": false,
     "start_time": "2022-06-15T10:45:36.674239",
     "status": "completed"
    },
    "tags": []
   },
   "outputs": [
    {
     "data": {
      "text/plain": [
       "(2919, 203)"
      ]
     },
     "execution_count": 32,
     "metadata": {},
     "output_type": "execute_result"
    }
   ],
   "source": [
    "final_data.shape"
   ]
  },
  {
   "cell_type": "code",
   "execution_count": 33,
   "id": "cf445d74",
   "metadata": {
    "execution": {
     "iopub.execute_input": "2022-06-15T10:45:36.727634Z",
     "iopub.status.busy": "2022-06-15T10:45:36.726624Z",
     "iopub.status.idle": "2022-06-15T10:45:36.733653Z",
     "shell.execute_reply": "2022-06-15T10:45:36.732717Z"
    },
    "papermill": {
     "duration": 0.024231,
     "end_time": "2022-06-15T10:45:36.735545",
     "exception": false,
     "start_time": "2022-06-15T10:45:36.711314",
     "status": "completed"
    },
    "tags": []
   },
   "outputs": [
    {
     "name": "stdout",
     "output_type": "stream",
     "text": [
      "(1460, 203)\n"
     ]
    },
    {
     "data": {
      "text/plain": [
       "(1459, 203)"
      ]
     },
     "execution_count": 33,
     "metadata": {},
     "output_type": "execute_result"
    }
   ],
   "source": [
    "#spliting the data into train and test separately\n",
    "train_data=final_data.iloc[:1460,:]\n",
    "test_data=final_data.iloc[1460:,:]\n",
    "print(train_data.shape)\n",
    "test_data.shape"
   ]
  },
  {
   "cell_type": "markdown",
   "id": "2d935cae",
   "metadata": {
    "papermill": {
     "duration": 0.01445,
     "end_time": "2022-06-15T10:45:36.764355",
     "exception": false,
     "start_time": "2022-06-15T10:45:36.749905",
     "status": "completed"
    },
    "tags": []
   },
   "source": [
    "### Modelling data"
   ]
  },
  {
   "cell_type": "code",
   "execution_count": 34,
   "id": "cbbf3bed",
   "metadata": {
    "execution": {
     "iopub.execute_input": "2022-06-15T10:45:36.795218Z",
     "iopub.status.busy": "2022-06-15T10:45:36.794666Z",
     "iopub.status.idle": "2022-06-15T10:45:37.044523Z",
     "shell.execute_reply": "2022-06-15T10:45:37.043697Z"
    },
    "papermill": {
     "duration": 0.267679,
     "end_time": "2022-06-15T10:45:37.046706",
     "exception": false,
     "start_time": "2022-06-15T10:45:36.779027",
     "status": "completed"
    },
    "tags": []
   },
   "outputs": [],
   "source": [
    "from sklearn.linear_model import LinearRegression\n",
    "from sklearn.metrics import mean_squared_error,r2_score"
   ]
  },
  {
   "cell_type": "code",
   "execution_count": 35,
   "id": "f8a71979",
   "metadata": {
    "execution": {
     "iopub.execute_input": "2022-06-15T10:45:37.078003Z",
     "iopub.status.busy": "2022-06-15T10:45:37.077098Z",
     "iopub.status.idle": "2022-06-15T10:45:37.081720Z",
     "shell.execute_reply": "2022-06-15T10:45:37.081096Z"
    },
    "papermill": {
     "duration": 0.021742,
     "end_time": "2022-06-15T10:45:37.083231",
     "exception": false,
     "start_time": "2022-06-15T10:45:37.061489",
     "status": "completed"
    },
    "tags": []
   },
   "outputs": [],
   "source": [
    "x=train_data\n",
    "y=train.loc[:,'SalePrice']"
   ]
  },
  {
   "cell_type": "code",
   "execution_count": 36,
   "id": "e0f08ddd",
   "metadata": {
    "execution": {
     "iopub.execute_input": "2022-06-15T10:45:37.113993Z",
     "iopub.status.busy": "2022-06-15T10:45:37.113375Z",
     "iopub.status.idle": "2022-06-15T10:45:37.132342Z",
     "shell.execute_reply": "2022-06-15T10:45:37.131361Z"
    },
    "papermill": {
     "duration": 0.036566,
     "end_time": "2022-06-15T10:45:37.134264",
     "exception": false,
     "start_time": "2022-06-15T10:45:37.097698",
     "status": "completed"
    },
    "tags": []
   },
   "outputs": [
    {
     "data": {
      "text/html": [
       "<div>\n",
       "<style scoped>\n",
       "    .dataframe tbody tr th:only-of-type {\n",
       "        vertical-align: middle;\n",
       "    }\n",
       "\n",
       "    .dataframe tbody tr th {\n",
       "        vertical-align: top;\n",
       "    }\n",
       "\n",
       "    .dataframe thead th {\n",
       "        text-align: right;\n",
       "    }\n",
       "</style>\n",
       "<table border=\"1\" class=\"dataframe\">\n",
       "  <thead>\n",
       "    <tr style=\"text-align: right;\">\n",
       "      <th></th>\n",
       "      <th>MSSubClass</th>\n",
       "      <th>LotFrontage</th>\n",
       "      <th>LotArea</th>\n",
       "      <th>OverallQual</th>\n",
       "      <th>OverallCond</th>\n",
       "      <th>YearBuilt</th>\n",
       "      <th>YearRemodAdd</th>\n",
       "      <th>MasVnrArea</th>\n",
       "      <th>BsmtFinSF1</th>\n",
       "      <th>BsmtFinSF2</th>\n",
       "      <th>...</th>\n",
       "      <th>ConLw</th>\n",
       "      <th>New</th>\n",
       "      <th>Oth</th>\n",
       "      <th>WD</th>\n",
       "      <th>Abnorml</th>\n",
       "      <th>AdjLand</th>\n",
       "      <th>Alloca</th>\n",
       "      <th>Family</th>\n",
       "      <th>Normal</th>\n",
       "      <th>Partial</th>\n",
       "    </tr>\n",
       "  </thead>\n",
       "  <tbody>\n",
       "    <tr>\n",
       "      <th>0</th>\n",
       "      <td>60</td>\n",
       "      <td>65.0</td>\n",
       "      <td>8450</td>\n",
       "      <td>7</td>\n",
       "      <td>5</td>\n",
       "      <td>2003</td>\n",
       "      <td>2003</td>\n",
       "      <td>196.0</td>\n",
       "      <td>706.0</td>\n",
       "      <td>0.0</td>\n",
       "      <td>...</td>\n",
       "      <td>0</td>\n",
       "      <td>0</td>\n",
       "      <td>0</td>\n",
       "      <td>1</td>\n",
       "      <td>0</td>\n",
       "      <td>0</td>\n",
       "      <td>0</td>\n",
       "      <td>0</td>\n",
       "      <td>1</td>\n",
       "      <td>0</td>\n",
       "    </tr>\n",
       "    <tr>\n",
       "      <th>1</th>\n",
       "      <td>20</td>\n",
       "      <td>80.0</td>\n",
       "      <td>9600</td>\n",
       "      <td>6</td>\n",
       "      <td>8</td>\n",
       "      <td>1976</td>\n",
       "      <td>1976</td>\n",
       "      <td>0.0</td>\n",
       "      <td>978.0</td>\n",
       "      <td>0.0</td>\n",
       "      <td>...</td>\n",
       "      <td>0</td>\n",
       "      <td>0</td>\n",
       "      <td>0</td>\n",
       "      <td>1</td>\n",
       "      <td>0</td>\n",
       "      <td>0</td>\n",
       "      <td>0</td>\n",
       "      <td>0</td>\n",
       "      <td>1</td>\n",
       "      <td>0</td>\n",
       "    </tr>\n",
       "    <tr>\n",
       "      <th>2</th>\n",
       "      <td>60</td>\n",
       "      <td>68.0</td>\n",
       "      <td>11250</td>\n",
       "      <td>7</td>\n",
       "      <td>5</td>\n",
       "      <td>2001</td>\n",
       "      <td>2002</td>\n",
       "      <td>162.0</td>\n",
       "      <td>486.0</td>\n",
       "      <td>0.0</td>\n",
       "      <td>...</td>\n",
       "      <td>0</td>\n",
       "      <td>0</td>\n",
       "      <td>0</td>\n",
       "      <td>1</td>\n",
       "      <td>0</td>\n",
       "      <td>0</td>\n",
       "      <td>0</td>\n",
       "      <td>0</td>\n",
       "      <td>1</td>\n",
       "      <td>0</td>\n",
       "    </tr>\n",
       "    <tr>\n",
       "      <th>3</th>\n",
       "      <td>70</td>\n",
       "      <td>60.0</td>\n",
       "      <td>9550</td>\n",
       "      <td>7</td>\n",
       "      <td>5</td>\n",
       "      <td>1915</td>\n",
       "      <td>1970</td>\n",
       "      <td>0.0</td>\n",
       "      <td>216.0</td>\n",
       "      <td>0.0</td>\n",
       "      <td>...</td>\n",
       "      <td>0</td>\n",
       "      <td>0</td>\n",
       "      <td>0</td>\n",
       "      <td>1</td>\n",
       "      <td>1</td>\n",
       "      <td>0</td>\n",
       "      <td>0</td>\n",
       "      <td>0</td>\n",
       "      <td>0</td>\n",
       "      <td>0</td>\n",
       "    </tr>\n",
       "    <tr>\n",
       "      <th>4</th>\n",
       "      <td>60</td>\n",
       "      <td>84.0</td>\n",
       "      <td>14260</td>\n",
       "      <td>8</td>\n",
       "      <td>5</td>\n",
       "      <td>2000</td>\n",
       "      <td>2000</td>\n",
       "      <td>350.0</td>\n",
       "      <td>655.0</td>\n",
       "      <td>0.0</td>\n",
       "      <td>...</td>\n",
       "      <td>0</td>\n",
       "      <td>0</td>\n",
       "      <td>0</td>\n",
       "      <td>1</td>\n",
       "      <td>0</td>\n",
       "      <td>0</td>\n",
       "      <td>0</td>\n",
       "      <td>0</td>\n",
       "      <td>1</td>\n",
       "      <td>0</td>\n",
       "    </tr>\n",
       "  </tbody>\n",
       "</table>\n",
       "<p>5 rows × 203 columns</p>\n",
       "</div>"
      ],
      "text/plain": [
       "   MSSubClass  LotFrontage  LotArea  OverallQual  OverallCond  YearBuilt  \\\n",
       "0          60         65.0     8450            7            5       2003   \n",
       "1          20         80.0     9600            6            8       1976   \n",
       "2          60         68.0    11250            7            5       2001   \n",
       "3          70         60.0     9550            7            5       1915   \n",
       "4          60         84.0    14260            8            5       2000   \n",
       "\n",
       "   YearRemodAdd  MasVnrArea  BsmtFinSF1  BsmtFinSF2  ...  ConLw  New  Oth  WD  \\\n",
       "0          2003       196.0       706.0         0.0  ...      0    0    0   1   \n",
       "1          1976         0.0       978.0         0.0  ...      0    0    0   1   \n",
       "2          2002       162.0       486.0         0.0  ...      0    0    0   1   \n",
       "3          1970         0.0       216.0         0.0  ...      0    0    0   1   \n",
       "4          2000       350.0       655.0         0.0  ...      0    0    0   1   \n",
       "\n",
       "   Abnorml  AdjLand  Alloca  Family  Normal  Partial  \n",
       "0        0        0       0       0       1        0  \n",
       "1        0        0       0       0       1        0  \n",
       "2        0        0       0       0       1        0  \n",
       "3        1        0       0       0       0        0  \n",
       "4        0        0       0       0       1        0  \n",
       "\n",
       "[5 rows x 203 columns]"
      ]
     },
     "execution_count": 36,
     "metadata": {},
     "output_type": "execute_result"
    }
   ],
   "source": [
    "x.head()"
   ]
  },
  {
   "cell_type": "code",
   "execution_count": 37,
   "id": "33669ca2",
   "metadata": {
    "execution": {
     "iopub.execute_input": "2022-06-15T10:45:37.165886Z",
     "iopub.status.busy": "2022-06-15T10:45:37.165495Z",
     "iopub.status.idle": "2022-06-15T10:45:37.171597Z",
     "shell.execute_reply": "2022-06-15T10:45:37.170807Z"
    },
    "papermill": {
     "duration": 0.023931,
     "end_time": "2022-06-15T10:45:37.173297",
     "exception": false,
     "start_time": "2022-06-15T10:45:37.149366",
     "status": "completed"
    },
    "tags": []
   },
   "outputs": [
    {
     "data": {
      "text/plain": [
       "0    208500\n",
       "1    181500\n",
       "2    223500\n",
       "3    140000\n",
       "4    250000\n",
       "Name: SalePrice, dtype: int64"
      ]
     },
     "execution_count": 37,
     "metadata": {},
     "output_type": "execute_result"
    }
   ],
   "source": [
    "y.head()"
   ]
  },
  {
   "cell_type": "code",
   "execution_count": 38,
   "id": "3da64039",
   "metadata": {
    "execution": {
     "iopub.execute_input": "2022-06-15T10:45:37.205130Z",
     "iopub.status.busy": "2022-06-15T10:45:37.204514Z",
     "iopub.status.idle": "2022-06-15T10:45:37.208091Z",
     "shell.execute_reply": "2022-06-15T10:45:37.207434Z"
    },
    "papermill": {
     "duration": 0.021469,
     "end_time": "2022-06-15T10:45:37.209827",
     "exception": false,
     "start_time": "2022-06-15T10:45:37.188358",
     "status": "completed"
    },
    "tags": []
   },
   "outputs": [],
   "source": [
    "from sklearn.model_selection import train_test_split"
   ]
  },
  {
   "cell_type": "code",
   "execution_count": 39,
   "id": "e78fd822",
   "metadata": {
    "execution": {
     "iopub.execute_input": "2022-06-15T10:45:37.241581Z",
     "iopub.status.busy": "2022-06-15T10:45:37.241008Z",
     "iopub.status.idle": "2022-06-15T10:45:37.249112Z",
     "shell.execute_reply": "2022-06-15T10:45:37.248250Z"
    },
    "papermill": {
     "duration": 0.026116,
     "end_time": "2022-06-15T10:45:37.251092",
     "exception": false,
     "start_time": "2022-06-15T10:45:37.224976",
     "status": "completed"
    },
    "tags": []
   },
   "outputs": [],
   "source": [
    "x_train,x_test,y_train,y_test = train_test_split(x,y,test_size=0.2,random_state=1)"
   ]
  },
  {
   "cell_type": "code",
   "execution_count": 40,
   "id": "7a3b658b",
   "metadata": {
    "execution": {
     "iopub.execute_input": "2022-06-15T10:45:37.282837Z",
     "iopub.status.busy": "2022-06-15T10:45:37.282440Z",
     "iopub.status.idle": "2022-06-15T10:45:37.286737Z",
     "shell.execute_reply": "2022-06-15T10:45:37.285782Z"
    },
    "papermill": {
     "duration": 0.022111,
     "end_time": "2022-06-15T10:45:37.288567",
     "exception": false,
     "start_time": "2022-06-15T10:45:37.266456",
     "status": "completed"
    },
    "tags": []
   },
   "outputs": [],
   "source": [
    "model =LinearRegression()"
   ]
  },
  {
   "cell_type": "code",
   "execution_count": 41,
   "id": "8c2d7217",
   "metadata": {
    "execution": {
     "iopub.execute_input": "2022-06-15T10:45:37.340216Z",
     "iopub.status.busy": "2022-06-15T10:45:37.339789Z",
     "iopub.status.idle": "2022-06-15T10:45:37.398202Z",
     "shell.execute_reply": "2022-06-15T10:45:37.396931Z"
    },
    "papermill": {
     "duration": 0.097487,
     "end_time": "2022-06-15T10:45:37.401423",
     "exception": false,
     "start_time": "2022-06-15T10:45:37.303936",
     "status": "completed"
    },
    "tags": []
   },
   "outputs": [
    {
     "data": {
      "text/plain": [
       "LinearRegression()"
      ]
     },
     "execution_count": 41,
     "metadata": {},
     "output_type": "execute_result"
    }
   ],
   "source": [
    "model.fit(x_train,y_train)"
   ]
  },
  {
   "cell_type": "code",
   "execution_count": 42,
   "id": "0ad254ad",
   "metadata": {
    "execution": {
     "iopub.execute_input": "2022-06-15T10:45:37.466927Z",
     "iopub.status.busy": "2022-06-15T10:45:37.466264Z",
     "iopub.status.idle": "2022-06-15T10:45:37.482718Z",
     "shell.execute_reply": "2022-06-15T10:45:37.481702Z"
    },
    "papermill": {
     "duration": 0.051672,
     "end_time": "2022-06-15T10:45:37.485637",
     "exception": false,
     "start_time": "2022-06-15T10:45:37.433965",
     "status": "completed"
    },
    "tags": []
   },
   "outputs": [
    {
     "data": {
      "text/plain": [
       "array([-5.24413327e+01, -3.02175005e+01,  6.10339033e-01,  6.49136003e+03,\n",
       "        6.00295530e+03,  2.66126584e+02,  9.05953173e+01,  7.70430303e+00,\n",
       "        1.51200289e+01,  1.90674304e+00, -1.76079634e+00,  1.52661086e+01,\n",
       "        1.15152640e+01,  1.77982233e+01,  2.91647888e+00,  3.22302004e+01,\n",
       "        2.23693179e+03,  1.39416690e+03,  1.26019647e+03,  3.09041150e+03,\n",
       "       -2.76111126e+03, -1.72218260e+04,  3.55236727e+03,  5.05933848e+03,\n",
       "        5.55379356e+01,  2.63146970e+03,  2.20001890e+01,  1.65803896e+01,\n",
       "        1.84757660e+01,  1.49609053e+01,  4.90423287e+01,  4.85414652e+01,\n",
       "        2.52100050e+01, -2.90268884e-02, -6.12031293e+02,  2.66222529e+02,\n",
       "       -2.50241683e+04,  4.21611648e+03,  1.04961325e+04,  6.91576853e+03,\n",
       "        3.39615078e+03,  1.52983243e+03, -1.52983243e+03, -8.46432806e+03,\n",
       "        7.13788435e+02,  1.37251082e+04, -5.97456862e+03, -5.55982800e+03,\n",
       "        1.13950320e+04, -1.40878386e+04,  8.25263461e+03,  2.38720470e+04,\n",
       "       -2.38720470e+04,  2.81269728e+03,  7.66708480e+03, -2.18335154e+03,\n",
       "       -8.57649500e+03,  2.80064458e+02,  6.24839301e+03,  1.77884361e+04,\n",
       "       -2.40368291e+04,  2.93638843e+03, -7.36448351e+03,  9.01000777e+03,\n",
       "       -3.78199218e+03, -9.25894760e+03, -8.23764870e+03,  1.01820887e+04,\n",
       "       -2.21087621e+04, -1.69328359e+04, -1.22954239e+04,  4.91235134e+03,\n",
       "       -1.35654829e+04, -1.72343282e+04,  1.96050870e+04, -1.66658672e+04,\n",
       "        2.26331531e+04,  3.44487226e+04, -1.48544873e+04, -1.10561281e+04,\n",
       "       -1.02332690e+04, -4.01681351e+03,  8.07725265e+03,  5.99659183e+04,\n",
       "       -5.74409581e+03,  1.57959601e+03,  6.99550473e+02,  6.70537974e+02,\n",
       "        1.25955937e+04,  9.31886445e+03, -1.83110630e+04, -1.63664894e+04,\n",
       "        7.37942670e+03, -1.48107556e+03,  5.49465465e+03,  9.44165473e+03,\n",
       "        1.16123121e+04,  3.43844152e+03, -1.35302678e+04, -1.09621405e+04,\n",
       "       -8.37031847e+02,  9.09255542e+03,  3.48331840e+03, -1.82777263e+04,\n",
       "        7.09441831e+03, -4.35527815e+03,  6.13269188e+02,  3.18647500e+03,\n",
       "        2.94222425e+03, -1.83138868e+03,  3.56829556e+03, -3.40799436e+01,\n",
       "        1.36230575e+04, -1.82681087e+04, -5.11102333e+05,  6.02276329e+04,\n",
       "        1.48573585e+05,  1.01863407e-10,  5.78559160e+04,  5.45064181e+04,\n",
       "        3.75315609e+04,  1.52407220e+05,  7.62113077e+03, -6.18456397e-11,\n",
       "       -1.14228652e+04,  1.61043007e+04, -6.38207779e+03, -1.15836753e+04,\n",
       "       -6.63511914e+03, -9.21598797e+03,  3.67910258e+03, -7.22541768e+03,\n",
       "        1.51131984e+04,  3.63479192e+03,  2.68928807e+03,  1.89062607e+02,\n",
       "        3.43426794e+03, -7.03564646e+03,  8.86905391e+03, -5.60187295e+04,\n",
       "       -2.63092697e+03, -8.30276081e+03, -7.09705803e+02,  3.01647925e+04,\n",
       "       -6.71614841e+03, -1.03273511e+04, -1.31212930e+04,  1.16877147e+04,\n",
       "       -6.10315879e+03,  1.25708155e+03,  4.73133525e+03, -2.98075361e+04,\n",
       "       -1.55831592e+04, -1.67499998e+04, -2.04131589e+04, -2.30670333e+03,\n",
       "       -9.87581095e+02,  2.24774056e+03, -1.19920130e+03, -3.92366079e+02,\n",
       "        2.63811123e+03,  6.12250055e+03,  6.02517308e+03,  3.99604711e+03,\n",
       "        1.00365315e+03, -2.89771004e+04,  1.18297265e+04,  1.49898268e+03,\n",
       "       -1.49898268e+03, -4.46749480e+02, -1.67650193e+03, -5.82856282e+03,\n",
       "        1.35751289e+04, -5.62331469e+03,  6.96258670e+03, -3.76960398e+03,\n",
       "        9.59798215e+03,  1.09328406e+04,  2.08054596e+04, -1.51001248e+04,\n",
       "        2.61273860e+03,  8.55801002e+03,  2.83563514e+03, -2.82444987e+03,\n",
       "        3.91819096e+03,  1.49715798e+03, -2.74035845e+03, -7.56982709e+03,\n",
       "       -1.13754722e+04, -8.92280226e+03,  1.49635487e+04,  1.91376315e+02,\n",
       "       -6.64539649e+03, -1.49614132e+04,  2.46538555e+04,  1.27853776e+04,\n",
       "       -1.06890740e+04, -2.03113018e+03,  4.65884128e+03,  1.09815861e+04,\n",
       "       -5.78614355e+03,  5.07058017e+03, -1.28937338e+04])"
      ]
     },
     "execution_count": 42,
     "metadata": {},
     "output_type": "execute_result"
    }
   ],
   "source": [
    "model.coef_"
   ]
  },
  {
   "cell_type": "code",
   "execution_count": 43,
   "id": "c831c3f1",
   "metadata": {
    "execution": {
     "iopub.execute_input": "2022-06-15T10:45:37.525976Z",
     "iopub.status.busy": "2022-06-15T10:45:37.525615Z",
     "iopub.status.idle": "2022-06-15T10:45:37.530462Z",
     "shell.execute_reply": "2022-06-15T10:45:37.529663Z"
    },
    "papermill": {
     "duration": 0.022462,
     "end_time": "2022-06-15T10:45:37.532039",
     "exception": false,
     "start_time": "2022-06-15T10:45:37.509577",
     "status": "completed"
    },
    "tags": []
   },
   "outputs": [
    {
     "data": {
      "text/plain": [
       "-1451571.212138501"
      ]
     },
     "execution_count": 43,
     "metadata": {},
     "output_type": "execute_result"
    }
   ],
   "source": [
    "model.intercept_"
   ]
  },
  {
   "cell_type": "code",
   "execution_count": 44,
   "id": "4fb46502",
   "metadata": {
    "execution": {
     "iopub.execute_input": "2022-06-15T10:45:37.564740Z",
     "iopub.status.busy": "2022-06-15T10:45:37.564111Z",
     "iopub.status.idle": "2022-06-15T10:45:37.583371Z",
     "shell.execute_reply": "2022-06-15T10:45:37.582266Z"
    },
    "papermill": {
     "duration": 0.039063,
     "end_time": "2022-06-15T10:45:37.586471",
     "exception": false,
     "start_time": "2022-06-15T10:45:37.547408",
     "status": "completed"
    },
    "tags": []
   },
   "outputs": [],
   "source": [
    "x_train_pred = model.predict(x_train)\n",
    "x_test_pred = model.predict(x_test)"
   ]
  },
  {
   "cell_type": "code",
   "execution_count": 45,
   "id": "cdcd1184",
   "metadata": {
    "execution": {
     "iopub.execute_input": "2022-06-15T10:45:37.651010Z",
     "iopub.status.busy": "2022-06-15T10:45:37.650433Z",
     "iopub.status.idle": "2022-06-15T10:45:37.662512Z",
     "shell.execute_reply": "2022-06-15T10:45:37.661494Z"
    },
    "papermill": {
     "duration": 0.047604,
     "end_time": "2022-06-15T10:45:37.665432",
     "exception": false,
     "start_time": "2022-06-15T10:45:37.617828",
     "status": "completed"
    },
    "tags": []
   },
   "outputs": [],
   "source": [
    "#actual data from hackathon\n",
    "test_pred = model.predict(test_data)"
   ]
  },
  {
   "cell_type": "code",
   "execution_count": 46,
   "id": "bb5bd89d",
   "metadata": {
    "execution": {
     "iopub.execute_input": "2022-06-15T10:45:37.729932Z",
     "iopub.status.busy": "2022-06-15T10:45:37.729355Z",
     "iopub.status.idle": "2022-06-15T10:45:37.736786Z",
     "shell.execute_reply": "2022-06-15T10:45:37.735806Z"
    },
    "papermill": {
     "duration": 0.042636,
     "end_time": "2022-06-15T10:45:37.739511",
     "exception": false,
     "start_time": "2022-06-15T10:45:37.696875",
     "status": "completed"
    },
    "tags": []
   },
   "outputs": [],
   "source": [
    "x_train_rmse = np.sqrt(mean_squared_error(y_train,x_train_pred))\n",
    "x_test_rmse = np.sqrt(mean_squared_error(y_test,x_test_pred))"
   ]
  },
  {
   "cell_type": "code",
   "execution_count": 47,
   "id": "dd448bd7",
   "metadata": {
    "execution": {
     "iopub.execute_input": "2022-06-15T10:45:37.793842Z",
     "iopub.status.busy": "2022-06-15T10:45:37.793417Z",
     "iopub.status.idle": "2022-06-15T10:45:37.797803Z",
     "shell.execute_reply": "2022-06-15T10:45:37.797167Z"
    },
    "papermill": {
     "duration": 0.028719,
     "end_time": "2022-06-15T10:45:37.800215",
     "exception": false,
     "start_time": "2022-06-15T10:45:37.771496",
     "status": "completed"
    },
    "tags": []
   },
   "outputs": [
    {
     "name": "stdout",
     "output_type": "stream",
     "text": [
      "x_train_rmse is 22916.118126239762\n",
      "x_test_rmse is 31246.736814794654\n"
     ]
    }
   ],
   "source": [
    "print('x_train_rmse is',x_train_rmse )\n",
    "print('x_test_rmse is',x_test_rmse )"
   ]
  },
  {
   "cell_type": "code",
   "execution_count": 48,
   "id": "87401a17",
   "metadata": {
    "execution": {
     "iopub.execute_input": "2022-06-15T10:45:37.832585Z",
     "iopub.status.busy": "2022-06-15T10:45:37.832032Z",
     "iopub.status.idle": "2022-06-15T10:45:37.837410Z",
     "shell.execute_reply": "2022-06-15T10:45:37.836600Z"
    },
    "papermill": {
     "duration": 0.023468,
     "end_time": "2022-06-15T10:45:37.839082",
     "exception": false,
     "start_time": "2022-06-15T10:45:37.815614",
     "status": "completed"
    },
    "tags": []
   },
   "outputs": [],
   "source": [
    "x_train_r2 = r2_score(y_train,x_train_pred)\n",
    "x_test_r2 =r2_score(y_test,x_test_pred)"
   ]
  },
  {
   "cell_type": "code",
   "execution_count": 49,
   "id": "aa95e28d",
   "metadata": {
    "execution": {
     "iopub.execute_input": "2022-06-15T10:45:37.871307Z",
     "iopub.status.busy": "2022-06-15T10:45:37.870736Z",
     "iopub.status.idle": "2022-06-15T10:45:37.876186Z",
     "shell.execute_reply": "2022-06-15T10:45:37.874981Z"
    },
    "papermill": {
     "duration": 0.023677,
     "end_time": "2022-06-15T10:45:37.878111",
     "exception": false,
     "start_time": "2022-06-15T10:45:37.854434",
     "status": "completed"
    },
    "tags": []
   },
   "outputs": [
    {
     "name": "stdout",
     "output_type": "stream",
     "text": [
      "x_train_r2 is 0.9138000925153263\n",
      "x_test_r2 is 0.8631006290954623\n"
     ]
    }
   ],
   "source": [
    "print('x_train_r2 is',x_train_r2 )\n",
    "print('x_test_r2 is',x_test_r2 )"
   ]
  },
  {
   "cell_type": "code",
   "execution_count": 50,
   "id": "d1ea49c7",
   "metadata": {
    "execution": {
     "iopub.execute_input": "2022-06-15T10:45:37.910163Z",
     "iopub.status.busy": "2022-06-15T10:45:37.909752Z",
     "iopub.status.idle": "2022-06-15T10:45:37.914671Z",
     "shell.execute_reply": "2022-06-15T10:45:37.913701Z"
    },
    "papermill": {
     "duration": 0.022884,
     "end_time": "2022-06-15T10:45:37.916414",
     "exception": false,
     "start_time": "2022-06-15T10:45:37.893530",
     "status": "completed"
    },
    "tags": []
   },
   "outputs": [],
   "source": [
    "test_pred_modified= np.where(test_pred<0, 0, test_pred)"
   ]
  },
  {
   "cell_type": "code",
   "execution_count": 51,
   "id": "5b99a8b4",
   "metadata": {
    "execution": {
     "iopub.execute_input": "2022-06-15T10:45:37.948758Z",
     "iopub.status.busy": "2022-06-15T10:45:37.948186Z",
     "iopub.status.idle": "2022-06-15T10:45:37.952597Z",
     "shell.execute_reply": "2022-06-15T10:45:37.951709Z"
    },
    "papermill": {
     "duration": 0.022774,
     "end_time": "2022-06-15T10:45:37.954424",
     "exception": false,
     "start_time": "2022-06-15T10:45:37.931650",
     "status": "completed"
    },
    "tags": []
   },
   "outputs": [],
   "source": [
    "test['SalePrice'] = test_pred_modified"
   ]
  },
  {
   "cell_type": "code",
   "execution_count": 52,
   "id": "58f88569",
   "metadata": {
    "execution": {
     "iopub.execute_input": "2022-06-15T10:45:37.987718Z",
     "iopub.status.busy": "2022-06-15T10:45:37.987310Z",
     "iopub.status.idle": "2022-06-15T10:45:37.992947Z",
     "shell.execute_reply": "2022-06-15T10:45:37.992273Z"
    },
    "papermill": {
     "duration": 0.02416,
     "end_time": "2022-06-15T10:45:37.994669",
     "exception": false,
     "start_time": "2022-06-15T10:45:37.970509",
     "status": "completed"
    },
    "tags": []
   },
   "outputs": [],
   "source": [
    "Output = test[['Id','SalePrice']]"
   ]
  },
  {
   "cell_type": "code",
   "execution_count": 53,
   "id": "b0d20a55",
   "metadata": {
    "execution": {
     "iopub.execute_input": "2022-06-15T10:45:38.027413Z",
     "iopub.status.busy": "2022-06-15T10:45:38.026347Z",
     "iopub.status.idle": "2022-06-15T10:45:38.036622Z",
     "shell.execute_reply": "2022-06-15T10:45:38.035886Z"
    },
    "papermill": {
     "duration": 0.028266,
     "end_time": "2022-06-15T10:45:38.038375",
     "exception": false,
     "start_time": "2022-06-15T10:45:38.010109",
     "status": "completed"
    },
    "tags": []
   },
   "outputs": [],
   "source": [
    "Output.to_csv('House_prediction_linear_Regression_80_percent_data.csv', index = False)"
   ]
  },
  {
   "cell_type": "code",
   "execution_count": null,
   "id": "6a1a0e78",
   "metadata": {
    "papermill": {
     "duration": 0.01501,
     "end_time": "2022-06-15T10:45:38.068817",
     "exception": false,
     "start_time": "2022-06-15T10:45:38.053807",
     "status": "completed"
    },
    "tags": []
   },
   "outputs": [],
   "source": []
  }
 ],
 "metadata": {
  "kernelspec": {
   "display_name": "Python 3",
   "language": "python",
   "name": "python3"
  },
  "language_info": {
   "codemirror_mode": {
    "name": "ipython",
    "version": 3
   },
   "file_extension": ".py",
   "mimetype": "text/x-python",
   "name": "python",
   "nbconvert_exporter": "python",
   "pygments_lexer": "ipython3",
   "version": "3.7.12"
  },
  "papermill": {
   "default_parameters": {},
   "duration": 14.895475,
   "end_time": "2022-06-15T10:45:38.804647",
   "environment_variables": {},
   "exception": null,
   "input_path": "__notebook__.ipynb",
   "output_path": "__notebook__.ipynb",
   "parameters": {},
   "start_time": "2022-06-15T10:45:23.909172",
   "version": "2.3.4"
  }
 },
 "nbformat": 4,
 "nbformat_minor": 5
}
